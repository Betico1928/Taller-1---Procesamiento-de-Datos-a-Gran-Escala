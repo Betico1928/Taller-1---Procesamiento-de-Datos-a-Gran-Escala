{
 "cells": [
  {
   "cell_type": "markdown",
   "source": [
    "<h1>Taller 1 - Alberto Vigna"
   ],
   "metadata": {
    "collapsed": false
   },
   "id": "657066eb4ee270f0"
  },
  {
   "cell_type": "markdown",
   "source": [
    "<h2>1 - Exámen sobre Cadenas</h2>"
   ],
   "metadata": {
    "collapsed": false
   },
   "id": "645e0e8654f06816"
  },
  {
   "cell_type": "markdown",
   "source": [
    "1. ¿Cual es el valor de la variable <code>A</code> después de ejecutar el siguiente código?"
   ],
   "metadata": {
    "collapsed": false
   },
   "id": "ddecf8c4e449920d"
  },
  {
   "cell_type": "code",
   "outputs": [
    {
     "name": "stdout",
     "output_type": "stream",
     "text": [
      "Respuesta: 1\n"
     ]
    }
   ],
   "source": [
    "A = \"1\"\n",
    "\n",
    "print(\"Respuesta: \" + A)"
   ],
   "metadata": {
    "collapsed": false,
    "ExecuteTime": {
     "end_time": "2024-01-27T04:31:34.809433Z",
     "start_time": "2024-01-27T04:31:34.803674Z"
    }
   },
   "id": "8149294465dab6b1",
   "execution_count": 14
  },
  {
   "cell_type": "markdown",
   "source": [
    "--------------------------------------------------------------------------------------------------------------------------"
   ],
   "metadata": {
    "collapsed": false
   },
   "id": "aff4ae156914bfb8"
  },
  {
   "cell_type": "markdown",
   "source": [
    "2. ¿Cual es el valor de la variable <code>B</code> después de ejecutar el siguiente código?"
   ],
   "metadata": {
    "collapsed": false
   },
   "id": "fb02a6fc5fc3f8f7"
  },
  {
   "cell_type": "code",
   "outputs": [
    {
     "name": "stdout",
     "output_type": "stream",
     "text": [
      "Respuesta: 2\n"
     ]
    }
   ],
   "source": [
    "B = \"2\"\n",
    "\n",
    "print(\"Respuesta: \" + B)"
   ],
   "metadata": {
    "collapsed": false,
    "ExecuteTime": {
     "end_time": "2024-01-27T04:31:53.939540Z",
     "start_time": "2024-01-27T04:31:53.929008Z"
    }
   },
   "id": "8ba73738a56cc14e",
   "execution_count": 15
  },
  {
   "cell_type": "markdown",
   "source": [
    "--------------------------------------------------------------------------------------------------------------------------"
   ],
   "metadata": {
    "collapsed": false
   },
   "id": "f13d158fcc8d7535"
  },
  {
   "cell_type": "markdown",
   "source": [
    "3. ¿Cual es el valor de la variable C después de ejecutar el siguiente código?"
   ],
   "metadata": {
    "collapsed": false
   },
   "id": "e8e040532e924d1c"
  },
  {
   "cell_type": "code",
   "outputs": [
    {
     "name": "stdout",
     "output_type": "stream",
     "text": [
      "Respuesta: 12\n"
     ]
    }
   ],
   "source": [
    "C = A + B\n",
    "\n",
    "print(\"Respuesta: \" + C)"
   ],
   "metadata": {
    "collapsed": false,
    "ExecuteTime": {
     "end_time": "2024-01-27T04:30:39.131713Z",
     "start_time": "2024-01-27T04:30:39.126406Z"
    }
   },
   "id": "8145a1e0bbecf365",
   "execution_count": 12
  },
  {
   "cell_type": "markdown",
   "source": [
    "--------------------------------------------------------------------------------------------------------------------------"
   ],
   "metadata": {
    "collapsed": false
   },
   "id": "3e1101fd5e923fd3"
  },
  {
   "cell_type": "markdown",
   "source": [
    "4. En la variable <code>D</code> haz uso del slicing para imprimir solo los primeros tres elementos:"
   ],
   "metadata": {
    "collapsed": false
   },
   "id": "d1500545b0b82371"
  },
  {
   "cell_type": "code",
   "outputs": [
    {
     "name": "stdout",
     "output_type": "stream",
     "text": [
      "Respuesta: ABC\n"
     ]
    }
   ],
   "source": [
    "D = \"ABCDEFG\"\n",
    "\n",
    "print(\"Respuesta: \" + D[0:3])"
   ],
   "metadata": {
    "collapsed": false,
    "ExecuteTime": {
     "end_time": "2024-01-27T04:32:10.354714Z",
     "start_time": "2024-01-27T04:32:10.349061Z"
    }
   },
   "id": "3f070eed7e634f78",
   "execution_count": 16
  },
  {
   "cell_type": "markdown",
   "source": [
    "--------------------------------------------------------------------------------------------------------------------------"
   ],
   "metadata": {
    "collapsed": false
   },
   "id": "d1a48fc9547b65e1"
  },
  {
   "cell_type": "markdown",
   "source": [
    "5. Usa un valor de stride de 2 para imprimir cada segundo elemento de la cadena E:"
   ],
   "metadata": {
    "collapsed": false
   },
   "id": "779b43d901211de9"
  },
  {
   "cell_type": "code",
   "outputs": [
    {
     "name": "stdout",
     "output_type": "stream",
     "text": [
      "Respuesta: correct\n"
     ]
    }
   ],
   "source": [
    "E = 'clocrkr1e1c1t'\n",
    "\n",
    "print(\"Respuesta: \" + E[::2])"
   ],
   "metadata": {
    "collapsed": false,
    "ExecuteTime": {
     "end_time": "2024-01-27T04:35:27.145220Z",
     "start_time": "2024-01-27T04:35:27.140823Z"
    }
   },
   "id": "8a6add75eb5c4837",
   "execution_count": 23
  },
  {
   "cell_type": "markdown",
   "source": [
    "--------------------------------------------------------------------------------------------------------------------------"
   ],
   "metadata": {
    "collapsed": false
   },
   "id": "b66759c2edb69266"
  },
  {
   "cell_type": "markdown",
   "source": [
    "6. Imprime una barra invertida:"
   ],
   "metadata": {
    "collapsed": false
   },
   "id": "73c4e80150a40f0a"
  },
  {
   "cell_type": "code",
   "outputs": [
    {
     "name": "stdout",
     "output_type": "stream",
     "text": [
      "Respuesta: \\\n"
     ]
    }
   ],
   "source": [
    "print(\"Respuesta: \" + \"\\\\\")"
   ],
   "metadata": {
    "collapsed": false,
    "ExecuteTime": {
     "end_time": "2024-01-27T04:38:36.671411Z",
     "start_time": "2024-01-27T04:38:36.660237Z"
    }
   },
   "id": "3bd6653650deb61f",
   "execution_count": 30
  },
  {
   "cell_type": "markdown",
   "source": [
    "--------------------------------------------------------------------------------------------------------------------------"
   ],
   "metadata": {
    "collapsed": false
   },
   "id": "65bc62563c400f25"
  },
  {
   "cell_type": "markdown",
   "source": [],
   "metadata": {
    "collapsed": false
   },
   "id": "825e1286920db844"
  },
  {
   "cell_type": "markdown",
   "source": [
    "7. Convierte el mayúsculas el contenido de la variable F:"
   ],
   "metadata": {
    "collapsed": false
   },
   "id": "7cc59dc6ea9bb965"
  },
  {
   "cell_type": "code",
   "outputs": [
    {
     "name": "stdout",
     "output_type": "stream",
     "text": [
      "Respuesta: YOU ARE WRONG\n"
     ]
    }
   ],
   "source": [
    "F = \"You are wrong\"\n",
    "\n",
    "print(\"Respuesta: \" + F.upper())"
   ],
   "metadata": {
    "collapsed": false,
    "ExecuteTime": {
     "end_time": "2024-01-27T04:51:43.169686Z",
     "start_time": "2024-01-27T04:51:43.159999Z"
    }
   },
   "id": "5dd58638d40ab204",
   "execution_count": 3
  },
  {
   "cell_type": "markdown",
   "source": [],
   "metadata": {
    "collapsed": false
   },
   "id": "906564fbbc0b9bed"
  },
  {
   "cell_type": "markdown",
   "source": [
    "8. En la variable G, encuentra el primer índice de la sub-cadena snow:"
   ],
   "metadata": {
    "collapsed": false
   },
   "id": "89d9a9ccacf4ac5b"
  },
  {
   "cell_type": "code",
   "outputs": [
    {
     "name": "stdout",
     "output_type": "stream",
     "text": [
      "Respuesta: 95\n"
     ]
    }
   ],
   "source": [
    "G = \"Mary had a little lamb Little lamb, little lamb Mary had a little lamb \\\n",
    "Its fleece was white as snow And everywhere that Mary went Mary went, Mary went \\\n",
    "Everywhere that Mary went The lamb was sure to go\"\n",
    "\n",
    "print(\"Respuesta: \" + str(G.find('snow')))"
   ],
   "metadata": {
    "collapsed": false,
    "ExecuteTime": {
     "end_time": "2024-01-27T04:54:06.955565Z",
     "start_time": "2024-01-27T04:54:06.932545Z"
    }
   },
   "id": "d2bed53d1262f89e",
   "execution_count": 7
  },
  {
   "cell_type": "markdown",
   "source": [],
   "metadata": {
    "collapsed": false
   },
   "id": "b40e9c32d5cff961"
  },
  {
   "cell_type": "markdown",
   "source": [
    "9. En la variable <code>G</code>, reemplaza la sub-cadena <code>Mary</code> con <code>Bob</code>:"
   ],
   "metadata": {
    "collapsed": false
   },
   "id": "7d214c254c2bdc8d"
  },
  {
   "cell_type": "code",
   "outputs": [
    {
     "name": "stdout",
     "output_type": "stream",
     "text": [
      "Respuesta: Bob had a little lamb Little lamb, little lamb Bob had a little lamb Its fleece was white as snow And everywhere that Bob went Bob went, Bob went Everywhere that Bob went The lamb was sure to go\n"
     ]
    }
   ],
   "source": [
    "G = \"Mary had a little lamb Little lamb, little lamb Mary had a little lamb \\\n",
    "Its fleece was white as snow And everywhere that Mary went Mary went, Mary went \\\n",
    "Everywhere that Mary went The lamb was sure to go\"\n",
    "\n",
    "print(\"Respuesta: \" + G.replace(\"Mary\", \"Bob\"))"
   ],
   "metadata": {
    "collapsed": false,
    "ExecuteTime": {
     "end_time": "2024-01-27T04:57:31.200358Z",
     "start_time": "2024-01-27T04:57:31.196429Z"
    }
   },
   "id": "41fe6192d37284fe",
   "execution_count": 10
  },
  {
   "cell_type": "markdown",
   "source": [
    "<h2>"
   ],
   "metadata": {
    "collapsed": false
   },
   "id": "3f4dbee976655cdb"
  },
  {
   "cell_type": "markdown",
   "source": [
    "<h2>Exámenes sobre Tuplas</h2>"
   ],
   "metadata": {
    "collapsed": false
   },
   "id": "e17152da536fc170"
  },
  {
   "cell_type": "markdown",
   "source": [
    "1. Considérese la siguiente tupla:"
   ],
   "metadata": {
    "collapsed": false
   },
   "id": "2b5dd2fe560dacf2"
  },
  {
   "cell_type": "code",
   "outputs": [
    {
     "data": {
      "text/plain": "('pop',\n 'rock',\n 'soul',\n 'hard rock',\n 'soft rock',\n 'R&B',\n 'progressive rock',\n 'disco')"
     },
     "execution_count": 16,
     "metadata": {},
     "output_type": "execute_result"
    }
   ],
   "source": [
    "genres_tuple = (\"pop\", \"rock\", \"soul\", \"hard rock\", \"soft rock\", \\\n",
    "                \"R&B\", \"progressive rock\", \"disco\") \n",
    "genres_tuple"
   ],
   "metadata": {
    "collapsed": false,
    "ExecuteTime": {
     "end_time": "2024-01-27T19:07:51.977996Z",
     "start_time": "2024-01-27T19:07:51.953562Z"
    }
   },
   "id": "ad9ff45c8eff4c1f",
   "execution_count": 16
  },
  {
   "cell_type": "markdown",
   "source": [
    "Encontrar la longitud de la tupla, <code>genres_tuple</code>:"
   ],
   "metadata": {
    "collapsed": false
   },
   "id": "941fdb6359ac0d1d"
  },
  {
   "cell_type": "code",
   "outputs": [
    {
     "name": "stdout",
     "output_type": "stream",
     "text": [
      "Respuesta: 8\n"
     ]
    }
   ],
   "source": [
    "print(\"Respuesta: \" + str(len(genres_tuple)))"
   ],
   "metadata": {
    "collapsed": false,
    "ExecuteTime": {
     "end_time": "2024-01-27T19:07:57.920001Z",
     "start_time": "2024-01-27T19:07:57.906204Z"
    }
   },
   "id": "b681c7c62cfdab1c",
   "execution_count": 17
  },
  {
   "cell_type": "markdown",
   "source": [],
   "metadata": {
    "collapsed": false
   },
   "id": "83d88ca205358730"
  },
  {
   "cell_type": "markdown",
   "source": [
    "2. Accede al elemento en el índice 3:"
   ],
   "metadata": {
    "collapsed": false
   },
   "id": "cab9af2b682c4034"
  },
  {
   "cell_type": "code",
   "outputs": [
    {
     "name": "stdout",
     "output_type": "stream",
     "text": [
      "Respuesta: hard rock\n"
     ]
    }
   ],
   "source": [
    "print(\"Respuesta: \" + str(genres_tuple[3]))"
   ],
   "metadata": {
    "collapsed": false,
    "ExecuteTime": {
     "end_time": "2024-01-27T19:08:03.594912Z",
     "start_time": "2024-01-27T19:08:03.581565Z"
    }
   },
   "id": "2bac5adda2b0ba6b",
   "execution_count": 18
  },
  {
   "cell_type": "markdown",
   "source": [],
   "metadata": {
    "collapsed": false
   },
   "id": "7dae346ac6ba1736"
  },
  {
   "cell_type": "markdown",
   "source": [
    "3. Utiliza el slicing para obtener los índices 3, 4 y 5:"
   ],
   "metadata": {
    "collapsed": false
   },
   "id": "435c0d27ad159d76"
  },
  {
   "cell_type": "code",
   "outputs": [
    {
     "name": "stdout",
     "output_type": "stream",
     "text": [
      "Respuesta: ('hard rock', 'soft rock', 'R&B')\n"
     ]
    }
   ],
   "source": [
    "print(\"Respuesta: \" + str(genres_tuple[3:6]))"
   ],
   "metadata": {
    "collapsed": false,
    "ExecuteTime": {
     "end_time": "2024-01-27T19:11:27.451649Z",
     "start_time": "2024-01-27T19:11:27.441159Z"
    }
   },
   "id": "56c7772b9c2b8649",
   "execution_count": 23
  },
  {
   "cell_type": "markdown",
   "source": [],
   "metadata": {
    "collapsed": false
   },
   "id": "6185f847d2e56cda"
  },
  {
   "cell_type": "markdown",
   "source": [
    "4. Encuentra los primeros dos elementos de la tupla <code>genres_tuple</code>:"
   ],
   "metadata": {
    "collapsed": false
   },
   "id": "e02474c21be95450"
  },
  {
   "cell_type": "code",
   "outputs": [
    {
     "name": "stdout",
     "output_type": "stream",
     "text": [
      "Respuesta: ('pop', 'rock')\n"
     ]
    }
   ],
   "source": [
    "print(\"Respuesta: \" + str(genres_tuple[0:2]))"
   ],
   "metadata": {
    "collapsed": false,
    "ExecuteTime": {
     "end_time": "2024-01-27T19:12:19.822781Z",
     "start_time": "2024-01-27T19:12:19.816505Z"
    }
   },
   "id": "68030f99fc4fad1e",
   "execution_count": 24
  },
  {
   "cell_type": "markdown",
   "source": [],
   "metadata": {
    "collapsed": false
   },
   "id": "7f6888d25a6697bf"
  },
  {
   "cell_type": "markdown",
   "source": [
    "5. Encuentra el primer índice de “disco”:"
   ],
   "metadata": {
    "collapsed": false
   },
   "id": "13d3296612e780d6"
  },
  {
   "cell_type": "code",
   "outputs": [
    {
     "name": "stdout",
     "output_type": "stream",
     "text": [
      "Respuesta: 7\n"
     ]
    }
   ],
   "source": [
    "print(\"Respuesta: \" + str(genres_tuple.index(\"disco\")))"
   ],
   "metadata": {
    "collapsed": false,
    "ExecuteTime": {
     "end_time": "2024-01-27T19:14:44.593565Z",
     "start_time": "2024-01-27T19:14:44.577328Z"
    }
   },
   "id": "d2e629f789b0b1e1",
   "execution_count": 25
  },
  {
   "cell_type": "markdown",
   "source": [],
   "metadata": {
    "collapsed": false
   },
   "id": "227e555a2a16c75a"
  },
  {
   "cell_type": "markdown",
   "source": [
    "6. Genera una lista ordenada desde la tupla <code>C_tuple=(-5, 1, -3)</code>:"
   ],
   "metadata": {
    "collapsed": false
   },
   "id": "8755c5ce93c9749a"
  },
  {
   "cell_type": "code",
   "outputs": [
    {
     "name": "stdout",
     "output_type": "stream",
     "text": [
      "C_tuple sin ordenar: (-5, 1, -3)\n",
      "Respuesta: [-5, -3, 1]\n"
     ]
    }
   ],
   "source": [
    "C_tuple = (-5, 1, -3)\n",
    "\n",
    "print(\"C_tuple sin ordenar: \" + str(C_tuple))\n",
    "\n",
    "C_tupleOrdenada = sorted(C_tuple)\n",
    "\n",
    "print(\"Respuesta: \" + str(C_tupleOrdenada))"
   ],
   "metadata": {
    "collapsed": false,
    "ExecuteTime": {
     "end_time": "2024-01-27T19:17:57.442596Z",
     "start_time": "2024-01-27T19:17:57.434251Z"
    }
   },
   "id": "fd5edc145cee2946",
   "execution_count": 32
  },
  {
   "cell_type": "markdown",
   "source": [],
   "metadata": {
    "collapsed": false
   },
   "id": "cc8c7108d7f6cddf"
  },
  {
   "cell_type": "markdown",
   "source": [
    "<h2>Exámen sobre Listas</h2>"
   ],
   "metadata": {
    "collapsed": false
   },
   "id": "a6d6b8f0e58a2e06"
  },
  {
   "cell_type": "markdown",
   "source": [
    "1. Crea una lista <code>a_lit</code> con los siguientes elementos <code>1</code>, <code>hello</code>, <code>[1,2,3]</code> y <code>True</code>."
   ],
   "metadata": {
    "collapsed": false
   },
   "id": "b3577dec27a33d89"
  },
  {
   "cell_type": "code",
   "outputs": [
    {
     "name": "stdout",
     "output_type": "stream",
     "text": [
      "Respuesta: [1, 'hello', [1, 2, 3], True]\n"
     ]
    }
   ],
   "source": [
    "a_lit = [1, \"hello\", [1,2,3], True]\n",
    "\n",
    "print(\"Respuesta: \" + str(a_lit))"
   ],
   "metadata": {
    "collapsed": false,
    "ExecuteTime": {
     "end_time": "2024-01-27T19:29:54.872840Z",
     "start_time": "2024-01-27T19:29:54.862915Z"
    }
   },
   "id": "661e8312e052de83",
   "execution_count": 34
  },
  {
   "cell_type": "markdown",
   "source": [],
   "metadata": {
    "collapsed": false
   },
   "id": "caaf327ddf92d5f0"
  },
  {
   "cell_type": "markdown",
   "source": [
    "2. Encuentra el valor almacenado en el índice 1 de <code>a_list</code>."
   ],
   "metadata": {
    "collapsed": false
   },
   "id": "e5ae58c281a63e5a"
  },
  {
   "cell_type": "code",
   "outputs": [
    {
     "name": "stdout",
     "output_type": "stream",
     "text": [
      "Respuesta: hello\n"
     ]
    }
   ],
   "source": [
    "print(\"Respuesta: \" + str(a_lit[1]))"
   ],
   "metadata": {
    "collapsed": false,
    "ExecuteTime": {
     "end_time": "2024-01-27T19:30:46.530714Z",
     "start_time": "2024-01-27T19:30:46.516500Z"
    }
   },
   "id": "118e64c10f64a66d",
   "execution_count": 35
  },
  {
   "cell_type": "markdown",
   "source": [],
   "metadata": {
    "collapsed": false
   },
   "id": "e90ee12f349faa22"
  },
  {
   "cell_type": "markdown",
   "source": [
    "3. Obtén el elemento almacenado en el índice 1, 2 y 3 de <code>a_list</code>."
   ],
   "metadata": {
    "collapsed": false
   },
   "id": "1e7ff981b7409c04"
  },
  {
   "cell_type": "code",
   "outputs": [
    {
     "name": "stdout",
     "output_type": "stream",
     "text": [
      "Respuesta: ['hello', [1, 2, 3], True]\n"
     ]
    }
   ],
   "source": [
    "print(\"Respuesta: \" + str(a_lit[1:4]))"
   ],
   "metadata": {
    "collapsed": false,
    "ExecuteTime": {
     "end_time": "2024-01-27T19:31:54.389854Z",
     "start_time": "2024-01-27T19:31:54.381734Z"
    }
   },
   "id": "d0c405d5409ffc4f",
   "execution_count": 37
  },
  {
   "cell_type": "markdown",
   "source": [],
   "metadata": {
    "collapsed": false
   },
   "id": "42dcb4c88f374011"
  },
  {
   "cell_type": "markdown",
   "source": [
    "4. Concatena las siguientes listas <code>A = [1, 'a']</code> y <code>B = [2, 1, 'd']</code>:"
   ],
   "metadata": {
    "collapsed": false
   },
   "id": "1dda66dc3d4321a4"
  },
  {
   "cell_type": "code",
   "outputs": [
    {
     "name": "stdout",
     "output_type": "stream",
     "text": [
      "Respuesta: [1, 'a', 2, 1, 'd']\n"
     ]
    }
   ],
   "source": [
    "A = [1, 'a']\n",
    "B = [2, 1, 'd']\n",
    "\n",
    "print(\"Respuesta: \" + str(A+B))"
   ],
   "metadata": {
    "collapsed": false,
    "ExecuteTime": {
     "end_time": "2024-01-27T20:57:51.636045Z",
     "start_time": "2024-01-27T20:57:51.623391Z"
    }
   },
   "id": "9f60010a7bfe6263",
   "execution_count": 39
  },
  {
   "cell_type": "markdown",
   "source": [],
   "metadata": {
    "collapsed": false
   },
   "id": "cbd890c40d163382"
  },
  {
   "cell_type": "markdown",
   "source": [
    "<h2>Cuestionarios sobre conjuntos</h2>"
   ],
   "metadata": {
    "collapsed": false
   },
   "id": "d505373493899e4f"
  },
  {
   "cell_type": "markdown",
   "source": [
    "1. Transformar la lista [‘rap’,‘house’,‘electronic music’, ‘rap’] en un conjunto:"
   ],
   "metadata": {
    "collapsed": false
   },
   "id": "84a74d02afc33984"
  },
  {
   "cell_type": "code",
   "outputs": [
    {
     "name": "stdout",
     "output_type": "stream",
     "text": [
      "Lista de generos: ['rap', 'house', 'electronic music', 'rap']\n",
      "\n",
      "Respuesta: {'house', 'electronic music', 'rap'}\n"
     ]
    }
   ],
   "source": [
    "listaDeGeneros = [\"rap\", \"house\", \"electronic music\", \"rap\"]\n",
    "print(\"Lista de generos: \" + str(listaDeGeneros) + \"\\n\")\n",
    "\n",
    "conjuntoDeGeneros = set(listaDeGeneros)\n",
    "print(\"Respuesta: \" + str(conjuntoDeGeneros))"
   ],
   "metadata": {
    "collapsed": false,
    "ExecuteTime": {
     "end_time": "2024-01-27T21:05:26.891975Z",
     "start_time": "2024-01-27T21:05:26.878779Z"
    }
   },
   "id": "27e77015ed3b8893",
   "execution_count": 46
  },
  {
   "cell_type": "markdown",
   "source": [],
   "metadata": {
    "collapsed": false
   },
   "id": "d8da2452d2b115ed"
  },
  {
   "cell_type": "markdown",
   "source": [
    "2. Considera que la lista A = [1, 2, 2, 1] y el conjunto B = set([1, 2, 2, 1]) suman sum(A) = sum(B)"
   ],
   "metadata": {
    "collapsed": false
   },
   "id": "2d8ab64af18e149"
  },
  {
   "cell_type": "code",
   "outputs": [
    {
     "name": "stdout",
     "output_type": "stream",
     "text": [
      "Respuesta de A: 6\n",
      "Respuesta de B: 3\n"
     ]
    }
   ],
   "source": [
    "A = [1, 2, 2, 1]\n",
    "B = set([1, 2, 2 ,1]) #Seria lo mismo que B = {1, 2, 2, 1}\n",
    "\n",
    "print(\"Respuesta de A: \" + str(sum(A)))\n",
    "print(\"Respuesta de B: \" + str(sum(B)))"
   ],
   "metadata": {
    "collapsed": false,
    "ExecuteTime": {
     "end_time": "2024-01-27T21:08:48.148418Z",
     "start_time": "2024-01-27T21:08:48.142620Z"
    }
   },
   "id": "1dc76af165d16294",
   "execution_count": 51
  },
  {
   "cell_type": "markdown",
   "source": [],
   "metadata": {
    "collapsed": false
   },
   "id": "69b724197675f93"
  },
  {
   "cell_type": "markdown",
   "source": [
    "3. Crea un nuevo conjunto <code>album_set3</code> que sea la unión de <code>album_set1</code> y <code>album_set2</code>:"
   ],
   "metadata": {
    "collapsed": false
   },
   "id": "5a5eb8e4f8e7c3e"
  },
  {
   "cell_type": "code",
   "outputs": [
    {
     "name": "stdout",
     "output_type": "stream",
     "text": [
      "Respuesta: {'Back in Black', 'The Dark Side of the Moon', 'Thriller', 'AC/DC'}\n"
     ]
    }
   ],
   "source": [
    "album_set1 = set([\"Thriller\", 'AC/DC', 'Back in Black'])\n",
    "album_set2 = set([ \"AC/DC\", \"Back in Black\", \"The Dark Side of the Moon\"])\n",
    "\n",
    "album_set3 = album_set1.union(album_set2)\n",
    "\n",
    "print(\"Respuesta: \" + str(album_set3))"
   ],
   "metadata": {
    "collapsed": false,
    "ExecuteTime": {
     "end_time": "2024-01-27T21:11:08.209935Z",
     "start_time": "2024-01-27T21:11:08.201181Z"
    }
   },
   "id": "7a5f4c5a93c190aa",
   "execution_count": 53
  },
  {
   "cell_type": "markdown",
   "source": [],
   "metadata": {
    "collapsed": false
   },
   "id": "68bf3548e9fae60e"
  },
  {
   "cell_type": "markdown",
   "source": [
    "4. Averigua si album_set1 es un subconjunto de album_set3:"
   ],
   "metadata": {
    "collapsed": false
   },
   "id": "3f249823cc391e92"
  },
  {
   "cell_type": "code",
   "outputs": [
    {
     "name": "stdout",
     "output_type": "stream",
     "text": [
      "Respuesta: True\n"
     ]
    }
   ],
   "source": [
    "print(\"Respuesta: \" + str(album_set1.issubset(album_set3)))"
   ],
   "metadata": {
    "collapsed": false,
    "ExecuteTime": {
     "end_time": "2024-01-27T21:12:31.308001Z",
     "start_time": "2024-01-27T21:12:31.289130Z"
    }
   },
   "id": "5eeb7bdd368c8bf7",
   "execution_count": 54
  },
  {
   "cell_type": "markdown",
   "source": [],
   "metadata": {
    "collapsed": false
   },
   "id": "d1ca84d4d4c53ae7"
  }
 ],
 "metadata": {
  "kernelspec": {
   "display_name": "Python 3",
   "language": "python",
   "name": "python3"
  },
  "language_info": {
   "codemirror_mode": {
    "name": "ipython",
    "version": 2
   },
   "file_extension": ".py",
   "mimetype": "text/x-python",
   "name": "python",
   "nbconvert_exporter": "python",
   "pygments_lexer": "ipython2",
   "version": "2.7.6"
  }
 },
 "nbformat": 4,
 "nbformat_minor": 5
}
