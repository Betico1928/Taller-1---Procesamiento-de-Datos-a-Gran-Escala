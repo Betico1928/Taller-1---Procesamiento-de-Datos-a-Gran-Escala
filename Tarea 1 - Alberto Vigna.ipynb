{
 "cells": [
  {
   "cell_type": "markdown",
   "source": [
    "<h1>Taller 1 - Alberto Vigna"
   ],
   "metadata": {
    "collapsed": false
   },
   "id": "657066eb4ee270f0"
  },
  {
   "cell_type": "markdown",
   "source": [
    "<h2>1 - Exámen sobre Cadenas</h2>"
   ],
   "metadata": {
    "collapsed": false
   },
   "id": "645e0e8654f06816"
  },
  {
   "cell_type": "markdown",
   "source": [
    "1. ¿Cual es el valor de la variable <code>A</code> después de ejecutar el siguiente código?"
   ],
   "metadata": {
    "collapsed": false
   },
   "id": "ddecf8c4e449920d"
  },
  {
   "cell_type": "code",
   "outputs": [
    {
     "name": "stdout",
     "output_type": "stream",
     "text": [
      "Respuesta: 1\n"
     ]
    }
   ],
   "source": [
    "A = \"1\"\n",
    "\n",
    "print(\"Respuesta: \" + A)"
   ],
   "metadata": {
    "collapsed": false,
    "ExecuteTime": {
     "end_time": "2024-01-27T04:31:34.809433Z",
     "start_time": "2024-01-27T04:31:34.803674Z"
    }
   },
   "id": "8149294465dab6b1",
   "execution_count": 14
  },
  {
   "cell_type": "markdown",
   "source": [
    "--------------------------------------------------------------------------------------------------------------------------"
   ],
   "metadata": {
    "collapsed": false
   },
   "id": "aff4ae156914bfb8"
  },
  {
   "cell_type": "markdown",
   "source": [
    "2. ¿Cual es el valor de la variable <code>B</code> después de ejecutar el siguiente código?"
   ],
   "metadata": {
    "collapsed": false
   },
   "id": "fb02a6fc5fc3f8f7"
  },
  {
   "cell_type": "code",
   "outputs": [
    {
     "name": "stdout",
     "output_type": "stream",
     "text": [
      "Respuesta: 2\n"
     ]
    }
   ],
   "source": [
    "B = \"2\"\n",
    "\n",
    "print(\"Respuesta: \" + B)"
   ],
   "metadata": {
    "collapsed": false,
    "ExecuteTime": {
     "end_time": "2024-01-27T04:31:53.939540Z",
     "start_time": "2024-01-27T04:31:53.929008Z"
    }
   },
   "id": "8ba73738a56cc14e",
   "execution_count": 15
  },
  {
   "cell_type": "markdown",
   "source": [
    "--------------------------------------------------------------------------------------------------------------------------"
   ],
   "metadata": {
    "collapsed": false
   },
   "id": "f13d158fcc8d7535"
  },
  {
   "cell_type": "markdown",
   "source": [
    "3. ¿Cual es el valor de la variable C después de ejecutar el siguiente código?"
   ],
   "metadata": {
    "collapsed": false
   },
   "id": "e8e040532e924d1c"
  },
  {
   "cell_type": "code",
   "outputs": [
    {
     "name": "stdout",
     "output_type": "stream",
     "text": [
      "Respuesta: 12\n"
     ]
    }
   ],
   "source": [
    "C = A + B\n",
    "\n",
    "print(\"Respuesta: \" + C)"
   ],
   "metadata": {
    "collapsed": false,
    "ExecuteTime": {
     "end_time": "2024-01-27T04:30:39.131713Z",
     "start_time": "2024-01-27T04:30:39.126406Z"
    }
   },
   "id": "8145a1e0bbecf365",
   "execution_count": 12
  },
  {
   "cell_type": "markdown",
   "source": [
    "--------------------------------------------------------------------------------------------------------------------------"
   ],
   "metadata": {
    "collapsed": false
   },
   "id": "3e1101fd5e923fd3"
  },
  {
   "cell_type": "markdown",
   "source": [
    "4. En la variable <code>D</code> haz uso del slicing para imprimir solo los primeros tres elementos:"
   ],
   "metadata": {
    "collapsed": false
   },
   "id": "d1500545b0b82371"
  },
  {
   "cell_type": "code",
   "outputs": [
    {
     "name": "stdout",
     "output_type": "stream",
     "text": [
      "Respuesta: ABC\n"
     ]
    }
   ],
   "source": [
    "D = \"ABCDEFG\"\n",
    "\n",
    "print(\"Respuesta: \" + D[0:3])"
   ],
   "metadata": {
    "collapsed": false,
    "ExecuteTime": {
     "end_time": "2024-01-27T04:32:10.354714Z",
     "start_time": "2024-01-27T04:32:10.349061Z"
    }
   },
   "id": "3f070eed7e634f78",
   "execution_count": 16
  },
  {
   "cell_type": "markdown",
   "source": [
    "--------------------------------------------------------------------------------------------------------------------------"
   ],
   "metadata": {
    "collapsed": false
   },
   "id": "d1a48fc9547b65e1"
  },
  {
   "cell_type": "markdown",
   "source": [
    "5. Usa un valor de stride de 2 para imprimir cada segundo elemento de la cadena E:"
   ],
   "metadata": {
    "collapsed": false
   },
   "id": "779b43d901211de9"
  },
  {
   "cell_type": "code",
   "outputs": [
    {
     "name": "stdout",
     "output_type": "stream",
     "text": [
      "Respuesta: correct\n"
     ]
    }
   ],
   "source": [
    "E = 'clocrkr1e1c1t'\n",
    "\n",
    "print(\"Respuesta: \" + E[::2])"
   ],
   "metadata": {
    "collapsed": false,
    "ExecuteTime": {
     "end_time": "2024-01-27T04:35:27.145220Z",
     "start_time": "2024-01-27T04:35:27.140823Z"
    }
   },
   "id": "8a6add75eb5c4837",
   "execution_count": 23
  },
  {
   "cell_type": "markdown",
   "source": [
    "--------------------------------------------------------------------------------------------------------------------------"
   ],
   "metadata": {
    "collapsed": false
   },
   "id": "b66759c2edb69266"
  },
  {
   "cell_type": "markdown",
   "source": [
    "6. Imprime una barra invertida:"
   ],
   "metadata": {
    "collapsed": false
   },
   "id": "73c4e80150a40f0a"
  },
  {
   "cell_type": "code",
   "outputs": [
    {
     "name": "stdout",
     "output_type": "stream",
     "text": [
      "Respuesta: \\\n"
     ]
    }
   ],
   "source": [
    "print(\"Respuesta: \" + \"\\\\\")"
   ],
   "metadata": {
    "collapsed": false,
    "ExecuteTime": {
     "end_time": "2024-01-27T04:38:36.671411Z",
     "start_time": "2024-01-27T04:38:36.660237Z"
    }
   },
   "id": "3bd6653650deb61f",
   "execution_count": 30
  },
  {
   "cell_type": "markdown",
   "source": [
    "--------------------------------------------------------------------------------------------------------------------------"
   ],
   "metadata": {
    "collapsed": false
   },
   "id": "65bc62563c400f25"
  },
  {
   "cell_type": "markdown",
   "source": [],
   "metadata": {
    "collapsed": false
   },
   "id": "825e1286920db844"
  },
  {
   "cell_type": "markdown",
   "source": [
    "7. Convierte el mayúsculas el contenido de la variable F:"
   ],
   "metadata": {
    "collapsed": false
   },
   "id": "7cc59dc6ea9bb965"
  },
  {
   "cell_type": "code",
   "outputs": [
    {
     "name": "stdout",
     "output_type": "stream",
     "text": [
      "Respuesta: YOU ARE WRONG\n"
     ]
    }
   ],
   "source": [
    "F = \"You are wrong\"\n",
    "\n",
    "print(\"Respuesta: \" + F.upper())"
   ],
   "metadata": {
    "collapsed": false,
    "ExecuteTime": {
     "end_time": "2024-01-27T04:51:43.169686Z",
     "start_time": "2024-01-27T04:51:43.159999Z"
    }
   },
   "id": "5dd58638d40ab204",
   "execution_count": 3
  },
  {
   "cell_type": "markdown",
   "source": [],
   "metadata": {
    "collapsed": false
   },
   "id": "906564fbbc0b9bed"
  },
  {
   "cell_type": "markdown",
   "source": [
    "8. En la variable G, encuentra el primer índice de la sub-cadena snow:"
   ],
   "metadata": {
    "collapsed": false
   },
   "id": "89d9a9ccacf4ac5b"
  },
  {
   "cell_type": "code",
   "outputs": [
    {
     "name": "stdout",
     "output_type": "stream",
     "text": [
      "Respuesta: 95\n"
     ]
    }
   ],
   "source": [
    "G = \"Mary had a little lamb Little lamb, little lamb Mary had a little lamb \\\n",
    "Its fleece was white as snow And everywhere that Mary went Mary went, Mary went \\\n",
    "Everywhere that Mary went The lamb was sure to go\"\n",
    "\n",
    "print(\"Respuesta: \" + str(G.find('snow')))"
   ],
   "metadata": {
    "collapsed": false,
    "ExecuteTime": {
     "end_time": "2024-01-27T04:54:06.955565Z",
     "start_time": "2024-01-27T04:54:06.932545Z"
    }
   },
   "id": "d2bed53d1262f89e",
   "execution_count": 7
  },
  {
   "cell_type": "markdown",
   "source": [],
   "metadata": {
    "collapsed": false
   },
   "id": "b40e9c32d5cff961"
  },
  {
   "cell_type": "markdown",
   "source": [
    "9. En la variable <code>G</code>, reemplaza la sub-cadena <code>Mary</code> con <code>Bob</code>:"
   ],
   "metadata": {
    "collapsed": false
   },
   "id": "7d214c254c2bdc8d"
  },
  {
   "cell_type": "code",
   "outputs": [
    {
     "name": "stdout",
     "output_type": "stream",
     "text": [
      "Respuesta: Bob had a little lamb Little lamb, little lamb Bob had a little lamb Its fleece was white as snow And everywhere that Bob went Bob went, Bob went Everywhere that Bob went The lamb was sure to go\n"
     ]
    }
   ],
   "source": [
    "G = \"Mary had a little lamb Little lamb, little lamb Mary had a little lamb \\\n",
    "Its fleece was white as snow And everywhere that Mary went Mary went, Mary went \\\n",
    "Everywhere that Mary went The lamb was sure to go\"\n",
    "\n",
    "print(\"Respuesta: \" + G.replace(\"Mary\", \"Bob\"))"
   ],
   "metadata": {
    "collapsed": false,
    "ExecuteTime": {
     "end_time": "2024-01-27T04:57:31.200358Z",
     "start_time": "2024-01-27T04:57:31.196429Z"
    }
   },
   "id": "41fe6192d37284fe",
   "execution_count": 10
  },
  {
   "cell_type": "markdown",
   "source": [
    "<h2>"
   ],
   "metadata": {
    "collapsed": false
   },
   "id": "3f4dbee976655cdb"
  }
 ],
 "metadata": {
  "kernelspec": {
   "display_name": "Python 3",
   "language": "python",
   "name": "python3"
  },
  "language_info": {
   "codemirror_mode": {
    "name": "ipython",
    "version": 2
   },
   "file_extension": ".py",
   "mimetype": "text/x-python",
   "name": "python",
   "nbconvert_exporter": "python",
   "pygments_lexer": "ipython2",
   "version": "2.7.6"
  }
 },
 "nbformat": 4,
 "nbformat_minor": 5
}
