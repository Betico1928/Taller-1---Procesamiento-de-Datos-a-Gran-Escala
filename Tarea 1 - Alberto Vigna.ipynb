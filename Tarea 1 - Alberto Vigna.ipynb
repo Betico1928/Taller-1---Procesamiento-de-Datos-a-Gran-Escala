{
 "cells": [
  {
   "cell_type": "markdown",
   "source": [
    "<h1>Taller 1 - Alberto Vigna"
   ],
   "metadata": {
    "collapsed": false
   },
   "id": "657066eb4ee270f0"
  },
  {
   "cell_type": "markdown",
   "source": [
    "<h2>1 - Exámen sobre Cadenas</h2>"
   ],
   "metadata": {
    "collapsed": false
   },
   "id": "645e0e8654f06816"
  },
  {
   "cell_type": "markdown",
   "source": [
    "1. ¿Cual es el valor de la variable <code>A</code> después de ejecutar el siguiente código?"
   ],
   "metadata": {
    "collapsed": false
   },
   "id": "ddecf8c4e449920d"
  },
  {
   "cell_type": "code",
   "outputs": [
    {
     "name": "stdout",
     "output_type": "stream",
     "text": [
      "Respuesta: 1\n"
     ]
    }
   ],
   "source": [
    "A = \"1\"\n",
    "\n",
    "print(\"Respuesta: \" + A)"
   ],
   "metadata": {
    "collapsed": false,
    "ExecuteTime": {
     "end_time": "2024-01-27T04:31:34.809433Z",
     "start_time": "2024-01-27T04:31:34.803674Z"
    }
   },
   "id": "8149294465dab6b1",
   "execution_count": 14
  },
  {
   "cell_type": "markdown",
   "source": [
    "--------------------------------------------------------------------------------------------------------------------------"
   ],
   "metadata": {
    "collapsed": false
   },
   "id": "aff4ae156914bfb8"
  },
  {
   "cell_type": "markdown",
   "source": [
    "2. ¿Cual es el valor de la variable <code>B</code> después de ejecutar el siguiente código?"
   ],
   "metadata": {
    "collapsed": false
   },
   "id": "fb02a6fc5fc3f8f7"
  },
  {
   "cell_type": "code",
   "outputs": [
    {
     "name": "stdout",
     "output_type": "stream",
     "text": [
      "Respuesta: 2\n"
     ]
    }
   ],
   "source": [
    "B = \"2\"\n",
    "\n",
    "print(\"Respuesta: \" + B)"
   ],
   "metadata": {
    "collapsed": false,
    "ExecuteTime": {
     "end_time": "2024-01-27T04:31:53.939540Z",
     "start_time": "2024-01-27T04:31:53.929008Z"
    }
   },
   "id": "8ba73738a56cc14e",
   "execution_count": 15
  },
  {
   "cell_type": "markdown",
   "source": [
    "--------------------------------------------------------------------------------------------------------------------------"
   ],
   "metadata": {
    "collapsed": false
   },
   "id": "f13d158fcc8d7535"
  },
  {
   "cell_type": "markdown",
   "source": [
    "3. ¿Cual es el valor de la variable C después de ejecutar el siguiente código?"
   ],
   "metadata": {
    "collapsed": false
   },
   "id": "e8e040532e924d1c"
  },
  {
   "cell_type": "code",
   "outputs": [
    {
     "name": "stdout",
     "output_type": "stream",
     "text": [
      "Respuesta: 12\n"
     ]
    }
   ],
   "source": [
    "C = A + B\n",
    "\n",
    "print(\"Respuesta: \" + C)"
   ],
   "metadata": {
    "collapsed": false,
    "ExecuteTime": {
     "end_time": "2024-01-27T04:30:39.131713Z",
     "start_time": "2024-01-27T04:30:39.126406Z"
    }
   },
   "id": "8145a1e0bbecf365",
   "execution_count": 12
  },
  {
   "cell_type": "markdown",
   "source": [
    "--------------------------------------------------------------------------------------------------------------------------"
   ],
   "metadata": {
    "collapsed": false
   },
   "id": "3e1101fd5e923fd3"
  },
  {
   "cell_type": "markdown",
   "source": [
    "4. En la variable <code>D</code> haz uso del slicing para imprimir solo los primeros tres elementos:"
   ],
   "metadata": {
    "collapsed": false
   },
   "id": "d1500545b0b82371"
  },
  {
   "cell_type": "code",
   "outputs": [
    {
     "name": "stdout",
     "output_type": "stream",
     "text": [
      "Respuesta: ABC\n"
     ]
    }
   ],
   "source": [
    "D = \"ABCDEFG\"\n",
    "\n",
    "print(\"Respuesta: \" + D[0:3])"
   ],
   "metadata": {
    "collapsed": false,
    "ExecuteTime": {
     "end_time": "2024-01-27T04:32:10.354714Z",
     "start_time": "2024-01-27T04:32:10.349061Z"
    }
   },
   "id": "3f070eed7e634f78",
   "execution_count": 16
  },
  {
   "cell_type": "markdown",
   "source": [
    "--------------------------------------------------------------------------------------------------------------------------"
   ],
   "metadata": {
    "collapsed": false
   },
   "id": "d1a48fc9547b65e1"
  },
  {
   "cell_type": "markdown",
   "source": [
    "5. Usa un valor de stride de 2 para imprimir cada segundo elemento de la cadena E:"
   ],
   "metadata": {
    "collapsed": false
   },
   "id": "779b43d901211de9"
  },
  {
   "cell_type": "code",
   "outputs": [
    {
     "name": "stdout",
     "output_type": "stream",
     "text": [
      "Respuesta: correct\n"
     ]
    }
   ],
   "source": [
    "E = 'clocrkr1e1c1t'\n",
    "\n",
    "print(\"Respuesta: \" + E[::2])"
   ],
   "metadata": {
    "collapsed": false,
    "ExecuteTime": {
     "end_time": "2024-01-27T04:35:27.145220Z",
     "start_time": "2024-01-27T04:35:27.140823Z"
    }
   },
   "id": "8a6add75eb5c4837",
   "execution_count": 23
  },
  {
   "cell_type": "markdown",
   "source": [
    "--------------------------------------------------------------------------------------------------------------------------"
   ],
   "metadata": {
    "collapsed": false
   },
   "id": "b66759c2edb69266"
  },
  {
   "cell_type": "markdown",
   "source": [
    "6. Imprime una barra invertida:"
   ],
   "metadata": {
    "collapsed": false
   },
   "id": "73c4e80150a40f0a"
  },
  {
   "cell_type": "code",
   "outputs": [
    {
     "name": "stdout",
     "output_type": "stream",
     "text": [
      "Respuesta: \\\n"
     ]
    }
   ],
   "source": [
    "print(\"Respuesta: \" + \"\\\\\")"
   ],
   "metadata": {
    "collapsed": false,
    "ExecuteTime": {
     "end_time": "2024-01-27T04:38:36.671411Z",
     "start_time": "2024-01-27T04:38:36.660237Z"
    }
   },
   "id": "3bd6653650deb61f",
   "execution_count": 30
  },
  {
   "cell_type": "markdown",
   "source": [
    "--------------------------------------------------------------------------------------------------------------------------"
   ],
   "metadata": {
    "collapsed": false
   },
   "id": "65bc62563c400f25"
  },
  {
   "cell_type": "markdown",
   "source": [],
   "metadata": {
    "collapsed": false
   },
   "id": "825e1286920db844"
  },
  {
   "cell_type": "markdown",
   "source": [
    "7. Convierte el mayúsculas el contenido de la variable F:"
   ],
   "metadata": {
    "collapsed": false
   },
   "id": "7cc59dc6ea9bb965"
  },
  {
   "cell_type": "code",
   "outputs": [
    {
     "name": "stdout",
     "output_type": "stream",
     "text": [
      "Respuesta: YOU ARE WRONG\n"
     ]
    }
   ],
   "source": [
    "F = \"You are wrong\"\n",
    "\n",
    "print(\"Respuesta: \" + F.upper())"
   ],
   "metadata": {
    "collapsed": false,
    "ExecuteTime": {
     "end_time": "2024-01-27T04:51:43.169686Z",
     "start_time": "2024-01-27T04:51:43.159999Z"
    }
   },
   "id": "5dd58638d40ab204",
   "execution_count": 3
  },
  {
   "cell_type": "markdown",
   "source": [],
   "metadata": {
    "collapsed": false
   },
   "id": "906564fbbc0b9bed"
  },
  {
   "cell_type": "markdown",
   "source": [
    "8. En la variable G, encuentra el primer índice de la sub-cadena snow:"
   ],
   "metadata": {
    "collapsed": false
   },
   "id": "89d9a9ccacf4ac5b"
  },
  {
   "cell_type": "code",
   "outputs": [
    {
     "name": "stdout",
     "output_type": "stream",
     "text": [
      "Respuesta: 95\n"
     ]
    }
   ],
   "source": [
    "G = \"Mary had a little lamb Little lamb, little lamb Mary had a little lamb \\\n",
    "Its fleece was white as snow And everywhere that Mary went Mary went, Mary went \\\n",
    "Everywhere that Mary went The lamb was sure to go\"\n",
    "\n",
    "print(\"Respuesta: \" + str(G.find('snow')))"
   ],
   "metadata": {
    "collapsed": false,
    "ExecuteTime": {
     "end_time": "2024-01-27T04:54:06.955565Z",
     "start_time": "2024-01-27T04:54:06.932545Z"
    }
   },
   "id": "d2bed53d1262f89e",
   "execution_count": 7
  },
  {
   "cell_type": "markdown",
   "source": [],
   "metadata": {
    "collapsed": false
   },
   "id": "b40e9c32d5cff961"
  },
  {
   "cell_type": "markdown",
   "source": [
    "9. En la variable <code>G</code>, reemplaza la sub-cadena <code>Mary</code> con <code>Bob</code>:"
   ],
   "metadata": {
    "collapsed": false
   },
   "id": "7d214c254c2bdc8d"
  },
  {
   "cell_type": "code",
   "outputs": [
    {
     "name": "stdout",
     "output_type": "stream",
     "text": [
      "Respuesta: Bob had a little lamb Little lamb, little lamb Bob had a little lamb Its fleece was white as snow And everywhere that Bob went Bob went, Bob went Everywhere that Bob went The lamb was sure to go\n"
     ]
    }
   ],
   "source": [
    "G = \"Mary had a little lamb Little lamb, little lamb Mary had a little lamb \\\n",
    "Its fleece was white as snow And everywhere that Mary went Mary went, Mary went \\\n",
    "Everywhere that Mary went The lamb was sure to go\"\n",
    "\n",
    "print(\"Respuesta: \" + G.replace(\"Mary\", \"Bob\"))"
   ],
   "metadata": {
    "collapsed": false,
    "ExecuteTime": {
     "end_time": "2024-01-27T04:57:31.200358Z",
     "start_time": "2024-01-27T04:57:31.196429Z"
    }
   },
   "id": "41fe6192d37284fe",
   "execution_count": 10
  },
  {
   "cell_type": "markdown",
   "source": [
    "<h2>"
   ],
   "metadata": {
    "collapsed": false
   },
   "id": "3f4dbee976655cdb"
  },
  {
   "cell_type": "markdown",
   "source": [
    "<h2>Exámenes sobre Tuplas</h2>"
   ],
   "metadata": {
    "collapsed": false
   },
   "id": "e17152da536fc170"
  },
  {
   "cell_type": "markdown",
   "source": [
    "1. Considérese la siguiente tupla:"
   ],
   "metadata": {
    "collapsed": false
   },
   "id": "2b5dd2fe560dacf2"
  },
  {
   "cell_type": "code",
   "outputs": [
    {
     "data": {
      "text/plain": "('pop',\n 'rock',\n 'soul',\n 'hard rock',\n 'soft rock',\n 'R&B',\n 'progressive rock',\n 'disco')"
     },
     "execution_count": 16,
     "metadata": {},
     "output_type": "execute_result"
    }
   ],
   "source": [
    "genres_tuple = (\"pop\", \"rock\", \"soul\", \"hard rock\", \"soft rock\", \\\n",
    "                \"R&B\", \"progressive rock\", \"disco\") \n",
    "genres_tuple"
   ],
   "metadata": {
    "collapsed": false,
    "ExecuteTime": {
     "end_time": "2024-01-27T19:07:51.977996Z",
     "start_time": "2024-01-27T19:07:51.953562Z"
    }
   },
   "id": "ad9ff45c8eff4c1f",
   "execution_count": 16
  },
  {
   "cell_type": "markdown",
   "source": [
    "Encontrar la longitud de la tupla, <code>genres_tuple</code>:"
   ],
   "metadata": {
    "collapsed": false
   },
   "id": "941fdb6359ac0d1d"
  },
  {
   "cell_type": "code",
   "outputs": [
    {
     "name": "stdout",
     "output_type": "stream",
     "text": [
      "Respuesta: 8\n"
     ]
    }
   ],
   "source": [
    "print(\"Respuesta: \" + str(len(genres_tuple)))"
   ],
   "metadata": {
    "collapsed": false,
    "ExecuteTime": {
     "end_time": "2024-01-27T19:07:57.920001Z",
     "start_time": "2024-01-27T19:07:57.906204Z"
    }
   },
   "id": "b681c7c62cfdab1c",
   "execution_count": 17
  },
  {
   "cell_type": "markdown",
   "source": [],
   "metadata": {
    "collapsed": false
   },
   "id": "83d88ca205358730"
  },
  {
   "cell_type": "markdown",
   "source": [
    "2. Accede al elemento en el índice 3:"
   ],
   "metadata": {
    "collapsed": false
   },
   "id": "cab9af2b682c4034"
  },
  {
   "cell_type": "code",
   "outputs": [
    {
     "name": "stdout",
     "output_type": "stream",
     "text": [
      "Respuesta: hard rock\n"
     ]
    }
   ],
   "source": [
    "print(\"Respuesta: \" + str(genres_tuple[3]))"
   ],
   "metadata": {
    "collapsed": false,
    "ExecuteTime": {
     "end_time": "2024-01-27T19:08:03.594912Z",
     "start_time": "2024-01-27T19:08:03.581565Z"
    }
   },
   "id": "2bac5adda2b0ba6b",
   "execution_count": 18
  },
  {
   "cell_type": "markdown",
   "source": [],
   "metadata": {
    "collapsed": false
   },
   "id": "7dae346ac6ba1736"
  },
  {
   "cell_type": "markdown",
   "source": [
    "3. Utiliza el slicing para obtener los índices 3, 4 y 5:"
   ],
   "metadata": {
    "collapsed": false
   },
   "id": "435c0d27ad159d76"
  },
  {
   "cell_type": "code",
   "outputs": [
    {
     "name": "stdout",
     "output_type": "stream",
     "text": [
      "Respuesta: ('hard rock', 'soft rock', 'R&B')\n"
     ]
    }
   ],
   "source": [
    "print(\"Respuesta: \" + str(genres_tuple[3:6]))"
   ],
   "metadata": {
    "collapsed": false,
    "ExecuteTime": {
     "end_time": "2024-01-27T19:11:27.451649Z",
     "start_time": "2024-01-27T19:11:27.441159Z"
    }
   },
   "id": "56c7772b9c2b8649",
   "execution_count": 23
  },
  {
   "cell_type": "markdown",
   "source": [],
   "metadata": {
    "collapsed": false
   },
   "id": "6185f847d2e56cda"
  },
  {
   "cell_type": "markdown",
   "source": [
    "4. Encuentra los primeros dos elementos de la tupla <code>genres_tuple</code>:"
   ],
   "metadata": {
    "collapsed": false
   },
   "id": "e02474c21be95450"
  },
  {
   "cell_type": "code",
   "outputs": [
    {
     "name": "stdout",
     "output_type": "stream",
     "text": [
      "Respuesta: ('pop', 'rock')\n"
     ]
    }
   ],
   "source": [
    "print(\"Respuesta: \" + str(genres_tuple[0:2]))"
   ],
   "metadata": {
    "collapsed": false,
    "ExecuteTime": {
     "end_time": "2024-01-27T19:12:19.822781Z",
     "start_time": "2024-01-27T19:12:19.816505Z"
    }
   },
   "id": "68030f99fc4fad1e",
   "execution_count": 24
  },
  {
   "cell_type": "markdown",
   "source": [],
   "metadata": {
    "collapsed": false
   },
   "id": "7f6888d25a6697bf"
  },
  {
   "cell_type": "markdown",
   "source": [
    "5. Encuentra el primer índice de “disco”:"
   ],
   "metadata": {
    "collapsed": false
   },
   "id": "13d3296612e780d6"
  },
  {
   "cell_type": "code",
   "outputs": [
    {
     "name": "stdout",
     "output_type": "stream",
     "text": [
      "Respuesta: 7\n"
     ]
    }
   ],
   "source": [
    "print(\"Respuesta: \" + str(genres_tuple.index(\"disco\")))"
   ],
   "metadata": {
    "collapsed": false,
    "ExecuteTime": {
     "end_time": "2024-01-27T19:14:44.593565Z",
     "start_time": "2024-01-27T19:14:44.577328Z"
    }
   },
   "id": "d2e629f789b0b1e1",
   "execution_count": 25
  },
  {
   "cell_type": "markdown",
   "source": [],
   "metadata": {
    "collapsed": false
   },
   "id": "227e555a2a16c75a"
  },
  {
   "cell_type": "markdown",
   "source": [
    "6. Genera una lista ordenada desde la tupla <code>C_tuple=(-5, 1, -3)</code>:"
   ],
   "metadata": {
    "collapsed": false
   },
   "id": "8755c5ce93c9749a"
  },
  {
   "cell_type": "code",
   "outputs": [
    {
     "name": "stdout",
     "output_type": "stream",
     "text": [
      "C_tuple sin ordenar: (-5, 1, -3)\n",
      "Respuesta: [-5, -3, 1]\n"
     ]
    }
   ],
   "source": [
    "C_tuple = (-5, 1, -3)\n",
    "\n",
    "print(\"C_tuple sin ordenar: \" + str(C_tuple))\n",
    "\n",
    "C_tupleOrdenada = sorted(C_tuple)\n",
    "\n",
    "print(\"Respuesta: \" + str(C_tupleOrdenada))"
   ],
   "metadata": {
    "collapsed": false,
    "ExecuteTime": {
     "end_time": "2024-01-27T19:17:57.442596Z",
     "start_time": "2024-01-27T19:17:57.434251Z"
    }
   },
   "id": "fd5edc145cee2946",
   "execution_count": 32
  },
  {
   "cell_type": "markdown",
   "source": [],
   "metadata": {
    "collapsed": false
   },
   "id": "cc8c7108d7f6cddf"
  },
  {
   "cell_type": "markdown",
   "source": [
    "<h2>"
   ],
   "metadata": {
    "collapsed": false
   },
   "id": "a6d6b8f0e58a2e06"
  }
 ],
 "metadata": {
  "kernelspec": {
   "display_name": "Python 3",
   "language": "python",
   "name": "python3"
  },
  "language_info": {
   "codemirror_mode": {
    "name": "ipython",
    "version": 2
   },
   "file_extension": ".py",
   "mimetype": "text/x-python",
   "name": "python",
   "nbconvert_exporter": "python",
   "pygments_lexer": "ipython2",
   "version": "2.7.6"
  }
 },
 "nbformat": 4,
 "nbformat_minor": 5
}
