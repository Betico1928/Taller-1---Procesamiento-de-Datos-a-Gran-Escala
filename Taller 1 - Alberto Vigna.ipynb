{
 "cells": [
  {
   "cell_type": "markdown",
   "source": [
    "<h1>Taller 1 - Alberto Vigna"
   ],
   "metadata": {
    "collapsed": false
   },
   "id": "657066eb4ee270f0"
  },
  {
   "cell_type": "markdown",
   "source": [
    "# Membrete\n",
    "\n",
    "<img src=\"https://upload.wikimedia.org/wikipedia/commons/6/6c/Javeriana.svg\" alt=\"Logo Javeriana\" width=\"150\"/>\n",
    "\n",
    "- **Nombre:** Alberto Luis Vigna Arroyo\n",
    "- **Universidad:** Pontificia Universidad Javeriana\n",
    "- **Materia:** Procesamiento de Datos a Gran Escala\n",
    "- **Nombre del Profesor:** John Corredor\n",
    "- **Correo Electrónico:** a-vigna@javeriana.edu.co\n",
    "- **Fecha:** 28 de enero de 2024\n"
   ],
   "metadata": {
    "collapsed": false
   },
   "id": "43b01bef01fc5f6"
  },
  {
   "cell_type": "markdown",
   "source": [
    "<h2>1 - Exámen sobre Cadenas</h2>"
   ],
   "metadata": {
    "collapsed": false
   },
   "id": "645e0e8654f06816"
  },
  {
   "cell_type": "markdown",
   "source": [
    "1. ¿Cual es el valor de la variable <code>A</code> después de ejecutar el siguiente código?"
   ],
   "metadata": {
    "collapsed": false
   },
   "id": "ddecf8c4e449920d"
  },
  {
   "cell_type": "code",
   "outputs": [
    {
     "name": "stdout",
     "output_type": "stream",
     "text": [
      "Respuesta: 1\n"
     ]
    }
   ],
   "source": [
    "A = \"1\"\n",
    "\n",
    "print(\"Respuesta: \" + A)\n",
    "\n",
    "# Explicación: A es un string, no un número, por lo que no se puede sumar con otro número."
   ],
   "metadata": {
    "collapsed": false,
    "ExecuteTime": {
     "end_time": "2024-01-27T21:20:58.503507Z",
     "start_time": "2024-01-27T21:20:58.492957Z"
    }
   },
   "id": "8149294465dab6b1",
   "execution_count": 1
  },
  {
   "cell_type": "markdown",
   "source": [
    "--------------------------------------------------------------------------------------------------------------------------"
   ],
   "metadata": {
    "collapsed": false
   },
   "id": "aff4ae156914bfb8"
  },
  {
   "cell_type": "markdown",
   "source": [
    "2. ¿Cual es el valor de la variable <code>B</code> después de ejecutar el siguiente código?"
   ],
   "metadata": {
    "collapsed": false
   },
   "id": "fb02a6fc5fc3f8f7"
  },
  {
   "cell_type": "code",
   "outputs": [
    {
     "name": "stdout",
     "output_type": "stream",
     "text": [
      "Respuesta: 2\n"
     ]
    }
   ],
   "source": [
    "B = \"2\"\n",
    "\n",
    "print(\"Respuesta: \" + B)\n",
    "\n",
    "# Explicación: B es un string, no un número, por lo que no se puede sumar con otro número."
   ],
   "metadata": {
    "collapsed": false,
    "ExecuteTime": {
     "end_time": "2024-01-27T21:21:22.888241Z",
     "start_time": "2024-01-27T21:21:22.859456Z"
    }
   },
   "id": "8ba73738a56cc14e",
   "execution_count": 2
  },
  {
   "cell_type": "markdown",
   "source": [
    "--------------------------------------------------------------------------------------------------------------------------"
   ],
   "metadata": {
    "collapsed": false
   },
   "id": "f13d158fcc8d7535"
  },
  {
   "cell_type": "markdown",
   "source": [
    "3. ¿Cual es el valor de la variable C después de ejecutar el siguiente código?"
   ],
   "metadata": {
    "collapsed": false
   },
   "id": "e8e040532e924d1c"
  },
  {
   "cell_type": "code",
   "outputs": [
    {
     "name": "stdout",
     "output_type": "stream",
     "text": [
      "Respuesta: 12\n"
     ]
    }
   ],
   "source": [
    "C = A + B\n",
    "\n",
    "print(\"Respuesta: \" + C)\n",
    "\n",
    "# Explicación: Si sumamos dos strings, se concatenan."
   ],
   "metadata": {
    "collapsed": false,
    "ExecuteTime": {
     "end_time": "2024-01-27T21:22:01.523360Z",
     "start_time": "2024-01-27T21:22:01.510321Z"
    }
   },
   "id": "8145a1e0bbecf365",
   "execution_count": 3
  },
  {
   "cell_type": "markdown",
   "source": [
    "--------------------------------------------------------------------------------------------------------------------------"
   ],
   "metadata": {
    "collapsed": false
   },
   "id": "3e1101fd5e923fd3"
  },
  {
   "cell_type": "markdown",
   "source": [
    "4. En la variable <code>D</code> haz uso del slicing para imprimir solo los primeros tres elementos:"
   ],
   "metadata": {
    "collapsed": false
   },
   "id": "d1500545b0b82371"
  },
  {
   "cell_type": "code",
   "outputs": [
    {
     "name": "stdout",
     "output_type": "stream",
     "text": [
      "Respuesta: ABC\n"
     ]
    }
   ],
   "source": [
    "D = \"ABCDEFG\"\n",
    "\n",
    "print(\"Respuesta: \" + D[0:3])\n",
    "\n",
    "# Explicación: El slicing se hace con [inicio:fin], donde inicio es inclusivo y fin es exclusivo."
   ],
   "metadata": {
    "collapsed": false,
    "ExecuteTime": {
     "end_time": "2024-01-27T21:22:12.388343Z",
     "start_time": "2024-01-27T21:22:12.344132Z"
    }
   },
   "id": "3f070eed7e634f78",
   "execution_count": 4
  },
  {
   "cell_type": "markdown",
   "source": [
    "--------------------------------------------------------------------------------------------------------------------------"
   ],
   "metadata": {
    "collapsed": false
   },
   "id": "d1a48fc9547b65e1"
  },
  {
   "cell_type": "markdown",
   "source": [
    "5. Usa un valor de stride de 2 para imprimir cada segundo elemento de la cadena E:"
   ],
   "metadata": {
    "collapsed": false
   },
   "id": "779b43d901211de9"
  },
  {
   "cell_type": "code",
   "outputs": [
    {
     "name": "stdout",
     "output_type": "stream",
     "text": [
      "Respuesta: correct\n"
     ]
    }
   ],
   "source": [
    "E = 'clocrkr1e1c1t'\n",
    "\n",
    "print(\"Respuesta: \" + E[::2])\n",
    "\n",
    "# Explicación: El slicing se hace con [inicio:fin:stride], donde stride es el salto que se hace entre cada elemento."
   ],
   "metadata": {
    "collapsed": false,
    "ExecuteTime": {
     "end_time": "2024-01-27T21:22:41.515315Z",
     "start_time": "2024-01-27T21:22:41.492484Z"
    }
   },
   "id": "8a6add75eb5c4837",
   "execution_count": 6
  },
  {
   "cell_type": "markdown",
   "source": [
    "--------------------------------------------------------------------------------------------------------------------------"
   ],
   "metadata": {
    "collapsed": false
   },
   "id": "b66759c2edb69266"
  },
  {
   "cell_type": "markdown",
   "source": [
    "6. Imprime una barra invertida:"
   ],
   "metadata": {
    "collapsed": false
   },
   "id": "73c4e80150a40f0a"
  },
  {
   "cell_type": "code",
   "outputs": [
    {
     "name": "stdout",
     "output_type": "stream",
     "text": [
      "Respuesta: \\\n"
     ]
    }
   ],
   "source": [
    "print(\"Respuesta: \" + \"\\\\\")\n",
    "\n",
    "# Explicación: Para imprimir una barra invertida, se debe anteponer una barra invertida."
   ],
   "metadata": {
    "collapsed": false,
    "ExecuteTime": {
     "end_time": "2024-01-27T21:22:55.067106Z",
     "start_time": "2024-01-27T21:22:55.032514Z"
    }
   },
   "id": "3bd6653650deb61f",
   "execution_count": 7
  },
  {
   "cell_type": "markdown",
   "source": [
    "--------------------------------------------------------------------------------------------------------------------------"
   ],
   "metadata": {
    "collapsed": false
   },
   "id": "65bc62563c400f25"
  },
  {
   "cell_type": "markdown",
   "source": [],
   "metadata": {
    "collapsed": false
   },
   "id": "825e1286920db844"
  },
  {
   "cell_type": "markdown",
   "source": [
    "7. Convierte el mayúsculas el contenido de la variable F:"
   ],
   "metadata": {
    "collapsed": false
   },
   "id": "7cc59dc6ea9bb965"
  },
  {
   "cell_type": "code",
   "outputs": [
    {
     "name": "stdout",
     "output_type": "stream",
     "text": [
      "Respuesta: YOU ARE WRONG\n"
     ]
    }
   ],
   "source": [
    "F = \"You are wrong\"\n",
    "\n",
    "print(\"Respuesta: \" + F.upper())\n",
    "\n",
    "# Explicación: Para convertir a mayúsculas, se usa el método upper()."
   ],
   "metadata": {
    "collapsed": false,
    "ExecuteTime": {
     "end_time": "2024-01-27T21:23:03.593515Z",
     "start_time": "2024-01-27T21:23:03.560744Z"
    }
   },
   "id": "5dd58638d40ab204",
   "execution_count": 8
  },
  {
   "cell_type": "markdown",
   "source": [],
   "metadata": {
    "collapsed": false
   },
   "id": "906564fbbc0b9bed"
  },
  {
   "cell_type": "markdown",
   "source": [
    "8. En la variable G, encuentra el primer índice de la sub-cadena snow:"
   ],
   "metadata": {
    "collapsed": false
   },
   "id": "89d9a9ccacf4ac5b"
  },
  {
   "cell_type": "code",
   "outputs": [
    {
     "name": "stdout",
     "output_type": "stream",
     "text": [
      "Respuesta: 95\n"
     ]
    }
   ],
   "source": [
    "G = \"Mary had a little lamb Little lamb, little lamb Mary had a little lamb \\\n",
    "Its fleece was white as snow And everywhere that Mary went Mary went, Mary went \\\n",
    "Everywhere that Mary went The lamb was sure to go\"\n",
    "\n",
    "print(\"Respuesta: \" + str(G.find('snow')))\n",
    "\n",
    "# Explicación: Para encontrar el primer índice de una sub-cadena, se usa el método find()."
   ],
   "metadata": {
    "collapsed": false,
    "ExecuteTime": {
     "end_time": "2024-01-27T21:23:20.987976Z",
     "start_time": "2024-01-27T21:23:20.980262Z"
    }
   },
   "id": "d2bed53d1262f89e",
   "execution_count": 9
  },
  {
   "cell_type": "markdown",
   "source": [],
   "metadata": {
    "collapsed": false
   },
   "id": "b40e9c32d5cff961"
  },
  {
   "cell_type": "markdown",
   "source": [
    "9. En la variable <code>G</code>, reemplaza la sub-cadena <code>Mary</code> con <code>Bob</code>:"
   ],
   "metadata": {
    "collapsed": false
   },
   "id": "7d214c254c2bdc8d"
  },
  {
   "cell_type": "code",
   "outputs": [
    {
     "name": "stdout",
     "output_type": "stream",
     "text": [
      "Respuesta: Bob had a little lamb Little lamb, little lamb Bob had a little lamb Its fleece was white as snow And everywhere that Bob went Bob went, Bob went Everywhere that Bob went The lamb was sure to go\n"
     ]
    }
   ],
   "source": [
    "G = \"Mary had a little lamb Little lamb, little lamb Mary had a little lamb \\\n",
    "Its fleece was white as snow And everywhere that Mary went Mary went, Mary went \\\n",
    "Everywhere that Mary went The lamb was sure to go\"\n",
    "\n",
    "print(\"Respuesta: \" + G.replace(\"Mary\", \"Bob\"))\n",
    "\n",
    "# Explicación: Para reemplazar una sub-cadena, se usa el método replace()."
   ],
   "metadata": {
    "collapsed": false,
    "ExecuteTime": {
     "end_time": "2024-01-27T21:23:30.673280Z",
     "start_time": "2024-01-27T21:23:30.635806Z"
    }
   },
   "id": "41fe6192d37284fe",
   "execution_count": 10
  },
  {
   "cell_type": "markdown",
   "source": [],
   "metadata": {
    "collapsed": false
   },
   "id": "3f4dbee976655cdb"
  },
  {
   "cell_type": "markdown",
   "source": [
    "<h2>Exámenes sobre Tuplas</h2>"
   ],
   "metadata": {
    "collapsed": false
   },
   "id": "e17152da536fc170"
  },
  {
   "cell_type": "markdown",
   "source": [
    "1. Considérese la siguiente tupla:"
   ],
   "metadata": {
    "collapsed": false
   },
   "id": "2b5dd2fe560dacf2"
  },
  {
   "cell_type": "code",
   "outputs": [
    {
     "data": {
      "text/plain": "('pop',\n 'rock',\n 'soul',\n 'hard rock',\n 'soft rock',\n 'R&B',\n 'progressive rock',\n 'disco')"
     },
     "execution_count": 11,
     "metadata": {},
     "output_type": "execute_result"
    }
   ],
   "source": [
    "genres_tuple = (\"pop\", \"rock\", \"soul\", \"hard rock\", \"soft rock\", \\\n",
    "                \"R&B\", \"progressive rock\", \"disco\") \n",
    "genres_tuple"
   ],
   "metadata": {
    "collapsed": false,
    "ExecuteTime": {
     "end_time": "2024-01-27T21:23:41.644111Z",
     "start_time": "2024-01-27T21:23:41.627312Z"
    }
   },
   "id": "ad9ff45c8eff4c1f",
   "execution_count": 11
  },
  {
   "cell_type": "markdown",
   "source": [
    "Encontrar la longitud de la tupla, <code>genres_tuple</code>:"
   ],
   "metadata": {
    "collapsed": false
   },
   "id": "941fdb6359ac0d1d"
  },
  {
   "cell_type": "code",
   "outputs": [
    {
     "name": "stdout",
     "output_type": "stream",
     "text": [
      "Respuesta: 8\n"
     ]
    }
   ],
   "source": [
    "print(\"Respuesta: \" + str(len(genres_tuple)))\n",
    "\n",
    "# Explicación: Para encontrar la longitud de una tupla, se usa la función len()."
   ],
   "metadata": {
    "collapsed": false,
    "ExecuteTime": {
     "end_time": "2024-01-27T21:23:48.917251Z",
     "start_time": "2024-01-27T21:23:48.908130Z"
    }
   },
   "id": "b681c7c62cfdab1c",
   "execution_count": 12
  },
  {
   "cell_type": "markdown",
   "source": [],
   "metadata": {
    "collapsed": false
   },
   "id": "83d88ca205358730"
  },
  {
   "cell_type": "markdown",
   "source": [
    "2. Accede al elemento en el índice 3:"
   ],
   "metadata": {
    "collapsed": false
   },
   "id": "cab9af2b682c4034"
  },
  {
   "cell_type": "code",
   "outputs": [
    {
     "name": "stdout",
     "output_type": "stream",
     "text": [
      "Respuesta: hard rock\n"
     ]
    }
   ],
   "source": [
    "print(\"Respuesta: \" + str(genres_tuple[3]))\n",
    "\n",
    "# Explicación: Para acceder a un elemento de una tupla, se usa el índice entre corchetes."
   ],
   "metadata": {
    "collapsed": false,
    "ExecuteTime": {
     "end_time": "2024-01-27T21:24:12.718060Z",
     "start_time": "2024-01-27T21:24:12.708773Z"
    }
   },
   "id": "2bac5adda2b0ba6b",
   "execution_count": 13
  },
  {
   "cell_type": "markdown",
   "source": [],
   "metadata": {
    "collapsed": false
   },
   "id": "7dae346ac6ba1736"
  },
  {
   "cell_type": "markdown",
   "source": [
    "3. Utiliza el slicing para obtener los índices 3, 4 y 5:"
   ],
   "metadata": {
    "collapsed": false
   },
   "id": "435c0d27ad159d76"
  },
  {
   "cell_type": "code",
   "outputs": [
    {
     "name": "stdout",
     "output_type": "stream",
     "text": [
      "Respuesta: ('hard rock', 'soft rock', 'R&B')\n"
     ]
    }
   ],
   "source": [
    "print(\"Respuesta: \" + str(genres_tuple[3:6]))\n",
    "\n",
    "# Explicación: Para hacer slicing, se usa [inicio:fin], donde inicio es inclusivo y fin es exclusivo."
   ],
   "metadata": {
    "collapsed": false,
    "ExecuteTime": {
     "end_time": "2024-01-27T21:25:05.713413Z",
     "start_time": "2024-01-27T21:25:05.704275Z"
    }
   },
   "id": "56c7772b9c2b8649",
   "execution_count": 16
  },
  {
   "cell_type": "markdown",
   "source": [],
   "metadata": {
    "collapsed": false
   },
   "id": "6185f847d2e56cda"
  },
  {
   "cell_type": "markdown",
   "source": [
    "4. Encuentra los primeros dos elementos de la tupla <code>genres_tuple</code>:"
   ],
   "metadata": {
    "collapsed": false
   },
   "id": "e02474c21be95450"
  },
  {
   "cell_type": "code",
   "outputs": [
    {
     "name": "stdout",
     "output_type": "stream",
     "text": [
      "Respuesta: ('pop', 'rock')\n"
     ]
    }
   ],
   "source": [
    "print(\"Respuesta: \" + str(genres_tuple[0:2]))\n",
    "\n",
    "# Explicación: Para hacer slicing, se usa [inicio:fin], donde inicio es inclusivo y fin es exclusivo. En este caso, inicio es 0 y fin es 2."
   ],
   "metadata": {
    "collapsed": false,
    "ExecuteTime": {
     "end_time": "2024-01-27T21:25:32.648734Z",
     "start_time": "2024-01-27T21:25:32.625247Z"
    }
   },
   "id": "68030f99fc4fad1e",
   "execution_count": 17
  },
  {
   "cell_type": "markdown",
   "source": [],
   "metadata": {
    "collapsed": false
   },
   "id": "7f6888d25a6697bf"
  },
  {
   "cell_type": "markdown",
   "source": [
    "5. Encuentra el primer índice de “disco”:"
   ],
   "metadata": {
    "collapsed": false
   },
   "id": "13d3296612e780d6"
  },
  {
   "cell_type": "code",
   "outputs": [
    {
     "name": "stdout",
     "output_type": "stream",
     "text": [
      "Respuesta: 7\n"
     ]
    }
   ],
   "source": [
    "print(\"Respuesta: \" + str(genres_tuple.index(\"disco\")))\n",
    "\n",
    "# Explicación: Para encontrar el primer índice de un elemento, se usa el método index()."
   ],
   "metadata": {
    "collapsed": false,
    "ExecuteTime": {
     "end_time": "2024-01-27T21:25:44.795149Z",
     "start_time": "2024-01-27T21:25:44.764403Z"
    }
   },
   "id": "d2e629f789b0b1e1",
   "execution_count": 18
  },
  {
   "cell_type": "markdown",
   "source": [],
   "metadata": {
    "collapsed": false
   },
   "id": "227e555a2a16c75a"
  },
  {
   "cell_type": "markdown",
   "source": [
    "6. Genera una lista ordenada desde la tupla <code>C_tuple=(-5, 1, -3)</code>:"
   ],
   "metadata": {
    "collapsed": false
   },
   "id": "8755c5ce93c9749a"
  },
  {
   "cell_type": "code",
   "outputs": [
    {
     "name": "stdout",
     "output_type": "stream",
     "text": [
      "C_tuple sin ordenar: (-5, 1, -3)\n",
      "Respuesta: [-5, -3, 1]\n"
     ]
    }
   ],
   "source": [
    "C_tuple = (-5, 1, -3)\n",
    "\n",
    "print(\"C_tuple sin ordenar: \" + str(C_tuple))\n",
    "\n",
    "C_tupleOrdenada = sorted(C_tuple)\n",
    "\n",
    "print(\"Respuesta: \" + str(C_tupleOrdenada))\n",
    "\n",
    "# Explicación: Para ordenar una tupla, se usa la función sorted()."
   ],
   "metadata": {
    "collapsed": false,
    "ExecuteTime": {
     "end_time": "2024-01-27T21:25:53.034222Z",
     "start_time": "2024-01-27T21:25:53.006264Z"
    }
   },
   "id": "fd5edc145cee2946",
   "execution_count": 19
  },
  {
   "cell_type": "markdown",
   "source": [],
   "metadata": {
    "collapsed": false
   },
   "id": "cc8c7108d7f6cddf"
  },
  {
   "cell_type": "markdown",
   "source": [
    "<h2>Exámen sobre Listas</h2>"
   ],
   "metadata": {
    "collapsed": false
   },
   "id": "a6d6b8f0e58a2e06"
  },
  {
   "cell_type": "markdown",
   "source": [
    "1. Crea una lista <code>a_lit</code> con los siguientes elementos <code>1</code>, <code>hello</code>, <code>[1,2,3]</code> y <code>True</code>."
   ],
   "metadata": {
    "collapsed": false
   },
   "id": "b3577dec27a33d89"
  },
  {
   "cell_type": "code",
   "outputs": [
    {
     "name": "stdout",
     "output_type": "stream",
     "text": [
      "Respuesta: [1, 'hello', [1, 2, 3], True]\n"
     ]
    }
   ],
   "source": [
    "a_lit = [1, \"hello\", [1,2,3], True]\n",
    "\n",
    "print(\"Respuesta: \" + str(a_lit))\n",
    "\n",
    "# Explicación: Para crear una lista, se usa [elemento1, elemento2, ...]."
   ],
   "metadata": {
    "collapsed": false,
    "ExecuteTime": {
     "end_time": "2024-01-27T21:26:14.924888Z",
     "start_time": "2024-01-27T21:26:14.894193Z"
    }
   },
   "id": "661e8312e052de83",
   "execution_count": 20
  },
  {
   "cell_type": "markdown",
   "source": [],
   "metadata": {
    "collapsed": false
   },
   "id": "caaf327ddf92d5f0"
  },
  {
   "cell_type": "markdown",
   "source": [
    "2. Encuentra el valor almacenado en el índice 1 de <code>a_list</code>."
   ],
   "metadata": {
    "collapsed": false
   },
   "id": "e5ae58c281a63e5a"
  },
  {
   "cell_type": "code",
   "outputs": [
    {
     "name": "stdout",
     "output_type": "stream",
     "text": [
      "Respuesta: hello\n"
     ]
    }
   ],
   "source": [
    "print(\"Respuesta: \" + str(a_lit[1]))\n",
    "\n",
    "# Explicación: Para acceder a un elemento de una lista, se usa el índice entre corchetes."
   ],
   "metadata": {
    "collapsed": false,
    "ExecuteTime": {
     "end_time": "2024-01-27T21:26:23.506946Z",
     "start_time": "2024-01-27T21:26:23.490100Z"
    }
   },
   "id": "118e64c10f64a66d",
   "execution_count": 21
  },
  {
   "cell_type": "markdown",
   "source": [],
   "metadata": {
    "collapsed": false
   },
   "id": "e90ee12f349faa22"
  },
  {
   "cell_type": "markdown",
   "source": [
    "3. Obtén el elemento almacenado en el índice 1, 2 y 3 de <code>a_list</code>."
   ],
   "metadata": {
    "collapsed": false
   },
   "id": "1e7ff981b7409c04"
  },
  {
   "cell_type": "code",
   "outputs": [
    {
     "name": "stdout",
     "output_type": "stream",
     "text": [
      "Respuesta: ['hello', [1, 2, 3], True]\n"
     ]
    }
   ],
   "source": [
    "print(\"Respuesta: \" + str(a_lit[1:4]))\n",
    "\n",
    "# Explicación: Para hacer slicing, se usa [inicio:fin], donde inicio es inclusivo y fin es exclusivo."
   ],
   "metadata": {
    "collapsed": false,
    "ExecuteTime": {
     "end_time": "2024-01-27T21:26:37.886659Z",
     "start_time": "2024-01-27T21:26:37.856294Z"
    }
   },
   "id": "d0c405d5409ffc4f",
   "execution_count": 22
  },
  {
   "cell_type": "markdown",
   "source": [],
   "metadata": {
    "collapsed": false
   },
   "id": "42dcb4c88f374011"
  },
  {
   "cell_type": "markdown",
   "source": [
    "4. Concatena las siguientes listas <code>A = [1, 'a']</code> y <code>B = [2, 1, 'd']</code>:"
   ],
   "metadata": {
    "collapsed": false
   },
   "id": "1dda66dc3d4321a4"
  },
  {
   "cell_type": "code",
   "outputs": [
    {
     "name": "stdout",
     "output_type": "stream",
     "text": [
      "Respuesta: [1, 'a', 2, 1, 'd']\n"
     ]
    }
   ],
   "source": [
    "A = [1, 'a']\n",
    "B = [2, 1, 'd']\n",
    "\n",
    "print(\"Respuesta: \" + str(A+B))\n",
    "\n",
    "# Explicación: Para concatenar listas, se usa el operador +."
   ],
   "metadata": {
    "collapsed": false,
    "ExecuteTime": {
     "end_time": "2024-01-27T21:26:48.036007Z",
     "start_time": "2024-01-27T21:26:48.013693Z"
    }
   },
   "id": "9f60010a7bfe6263",
   "execution_count": 23
  },
  {
   "cell_type": "markdown",
   "source": [],
   "metadata": {
    "collapsed": false
   },
   "id": "cbd890c40d163382"
  },
  {
   "cell_type": "markdown",
   "source": [
    "<h2>Cuestionarios sobre conjuntos</h2>"
   ],
   "metadata": {
    "collapsed": false
   },
   "id": "d505373493899e4f"
  },
  {
   "cell_type": "markdown",
   "source": [
    "1. Transformar la lista [‘rap’,‘house’,‘electronic music’, ‘rap’] en un conjunto:"
   ],
   "metadata": {
    "collapsed": false
   },
   "id": "84a74d02afc33984"
  },
  {
   "cell_type": "code",
   "outputs": [
    {
     "name": "stdout",
     "output_type": "stream",
     "text": [
      "Lista de generos: ['rap', 'house', 'electronic music', 'rap']\n",
      "\n",
      "Respuesta: {'rap', 'electronic music', 'house'}\n"
     ]
    }
   ],
   "source": [
    "listaDeGeneros = [\"rap\", \"house\", \"electronic music\", \"rap\"]\n",
    "print(\"Lista de generos: \" + str(listaDeGeneros) + \"\\n\")\n",
    "\n",
    "conjuntoDeGeneros = set(listaDeGeneros)\n",
    "print(\"Respuesta: \" + str(conjuntoDeGeneros))\n",
    "\n",
    "# Explicación: Para transformar una lista en un conjunto, se usa la función set()."
   ],
   "metadata": {
    "collapsed": false,
    "ExecuteTime": {
     "end_time": "2024-01-27T21:26:58.680883Z",
     "start_time": "2024-01-27T21:26:58.650965Z"
    }
   },
   "id": "27e77015ed3b8893",
   "execution_count": 24
  },
  {
   "cell_type": "markdown",
   "source": [],
   "metadata": {
    "collapsed": false
   },
   "id": "d8da2452d2b115ed"
  },
  {
   "cell_type": "markdown",
   "source": [
    "2. Considera que la lista A = [1, 2, 2, 1] y el conjunto B = set([1, 2, 2, 1]) suman sum(A) = sum(B)"
   ],
   "metadata": {
    "collapsed": false
   },
   "id": "2d8ab64af18e149"
  },
  {
   "cell_type": "code",
   "outputs": [
    {
     "name": "stdout",
     "output_type": "stream",
     "text": [
      "Respuesta de A: 6\n",
      "Respuesta de B: 3\n"
     ]
    }
   ],
   "source": [
    "A = [1, 2, 2, 1]\n",
    "B = set([1, 2, 2 ,1]) #Seria lo mismo que B = {1, 2, 2, 1}\n",
    "\n",
    "print(\"Respuesta de A: \" + str(sum(A)))\n",
    "print(\"Respuesta de B: \" + str(sum(B)))\n",
    "\n",
    "# Explicación: Para sumar los elementos de una lista, se usa la función sum(). Para sumar los elementos de un conjunto, se usa la función sum()."
   ],
   "metadata": {
    "collapsed": false,
    "ExecuteTime": {
     "end_time": "2024-01-27T21:27:27.108719Z",
     "start_time": "2024-01-27T21:27:27.063179Z"
    }
   },
   "id": "1dc76af165d16294",
   "execution_count": 25
  },
  {
   "cell_type": "markdown",
   "source": [],
   "metadata": {
    "collapsed": false
   },
   "id": "69b724197675f93"
  },
  {
   "cell_type": "markdown",
   "source": [
    "3. Crea un nuevo conjunto <code>album_set3</code> que sea la unión de <code>album_set1</code> y <code>album_set2</code>:"
   ],
   "metadata": {
    "collapsed": false
   },
   "id": "5a5eb8e4f8e7c3e"
  },
  {
   "cell_type": "code",
   "outputs": [
    {
     "name": "stdout",
     "output_type": "stream",
     "text": [
      "Respuesta: {'AC/DC', 'Thriller', 'The Dark Side of the Moon', 'Back in Black'}\n"
     ]
    }
   ],
   "source": [
    "album_set1 = set([\"Thriller\", 'AC/DC', 'Back in Black'])\n",
    "album_set2 = set([ \"AC/DC\", \"Back in Black\", \"The Dark Side of the Moon\"])\n",
    "\n",
    "album_set3 = album_set1.union(album_set2)\n",
    "\n",
    "print(\"Respuesta: \" + str(album_set3))\n",
    "\n",
    "# Explicación: Para unir dos conjuntos, se usa el método union()."
   ],
   "metadata": {
    "collapsed": false,
    "ExecuteTime": {
     "end_time": "2024-01-27T21:27:35.234392Z",
     "start_time": "2024-01-27T21:27:35.203761Z"
    }
   },
   "id": "7a5f4c5a93c190aa",
   "execution_count": 26
  },
  {
   "cell_type": "markdown",
   "source": [],
   "metadata": {
    "collapsed": false
   },
   "id": "68bf3548e9fae60e"
  },
  {
   "cell_type": "markdown",
   "source": [
    "4. Averigua si album_set1 es un subconjunto de album_set3:"
   ],
   "metadata": {
    "collapsed": false
   },
   "id": "3f249823cc391e92"
  },
  {
   "cell_type": "code",
   "outputs": [
    {
     "name": "stdout",
     "output_type": "stream",
     "text": [
      "Respuesta: True\n"
     ]
    }
   ],
   "source": [
    "print(\"Respuesta: \" + str(album_set1.issubset(album_set3)))\n",
    "\n",
    "# Explicación: Para saber si un conjunto es subconjunto de otro, se usa el método issubset()."
   ],
   "metadata": {
    "collapsed": false,
    "ExecuteTime": {
     "end_time": "2024-01-27T21:28:03.238097Z",
     "start_time": "2024-01-27T21:28:03.211560Z"
    }
   },
   "id": "5eeb7bdd368c8bf7",
   "execution_count": 27
  },
  {
   "cell_type": "markdown",
   "source": [],
   "metadata": {
    "collapsed": false
   },
   "id": "d1ca84d4d4c53ae7"
  },
  {
   "cell_type": "markdown",
   "source": [
    "<h2>Cuestionarios sobre diccionarios</h2>"
   ],
   "metadata": {
    "collapsed": false
   },
   "id": "755797f9c7f72d29"
  },
  {
   "cell_type": "code",
   "outputs": [
    {
     "data": {
      "text/plain": "{'The Bodyguard': '1992', 'Saturday Night Fever': '1977'}"
     },
     "execution_count": 28,
     "metadata": {},
     "output_type": "execute_result"
    }
   ],
   "source": [
    "soundtrack_dic = {\"The Bodyguard\":\"1992\", \"Saturday Night Fever\":\"1977\"}\n",
    "soundtrack_dic "
   ],
   "metadata": {
    "collapsed": false,
    "ExecuteTime": {
     "end_time": "2024-01-27T21:50:36.098926Z",
     "start_time": "2024-01-27T21:50:36.080358Z"
    }
   },
   "id": "6273472097f4f114",
   "execution_count": 28
  },
  {
   "cell_type": "markdown",
   "source": [
    "a) En el diccionario <code>soundtrack_dict</code>. ¿Cuáles son las llaves?"
   ],
   "metadata": {
    "collapsed": false
   },
   "id": "e8ff6a16ca2c0a72"
  },
  {
   "cell_type": "code",
   "outputs": [
    {
     "name": "stdout",
     "output_type": "stream",
     "text": [
      "Respuesta: dict_keys(['The Bodyguard', 'Saturday Night Fever'])\n"
     ]
    }
   ],
   "source": [
    "print(\"Respuesta: \" + str(soundtrack_dic.keys()))\n",
    "\n",
    "# Explicación: Para obtener las llaves de un diccionario, se usa el método keys()."
   ],
   "metadata": {
    "collapsed": false,
    "ExecuteTime": {
     "end_time": "2024-01-27T21:53:17.533336Z",
     "start_time": "2024-01-27T21:53:17.503072Z"
    }
   },
   "id": "7be31c4ad8a3600",
   "execution_count": 34
  },
  {
   "cell_type": "markdown",
   "source": [
    "b) En el diccionario <code>soundtrack_dict</code>. ¿Cuáles son los valores?"
   ],
   "metadata": {
    "collapsed": false
   },
   "id": "31514be77074d6c7"
  },
  {
   "cell_type": "code",
   "outputs": [
    {
     "name": "stdout",
     "output_type": "stream",
     "text": [
      "Respuesta: dict_values(['1992', '1977'])\n"
     ]
    }
   ],
   "source": [
    "print(\"Respuesta: \" + str(soundtrack_dic.values()))\n",
    "\n",
    "# Explicación: Para obtener los valores de un diccionario, se usa el método values()."
   ],
   "metadata": {
    "collapsed": false,
    "ExecuteTime": {
     "end_time": "2024-01-27T21:53:21.749851Z",
     "start_time": "2024-01-27T21:53:21.745237Z"
    }
   },
   "id": "1d5f3ad6b8f2d7a2",
   "execution_count": 35
  },
  {
   "cell_type": "markdown",
   "source": [],
   "metadata": {
    "collapsed": false
   },
   "id": "bd3ce685c3b2b9b5"
  },
  {
   "cell_type": "markdown",
   "source": [
    "Los discos Back in Black, The Bodyguard y Thriller poseen el siguiente record de ventas en millones, 50, 50 y 65 respectivamente:"
   ],
   "metadata": {
    "collapsed": false
   },
   "id": "64a21bc37897d2c5"
  },
  {
   "cell_type": "markdown",
   "source": [
    "a) Crea un diccionario album_sales_dict donde las llaves sean el nombre del disco y los valores la cantidad de ventas en millones."
   ],
   "metadata": {
    "collapsed": false
   },
   "id": "d4be18185d08f680"
  },
  {
   "cell_type": "code",
   "outputs": [
    {
     "name": "stdout",
     "output_type": "stream",
     "text": [
      "Respuesta: {'Back in Black': 50, 'The Bodyguard': 50, 'Thriller': 65}\n"
     ]
    }
   ],
   "source": [
    "album_sales_dict = {\"Back in Black\":50, \"The Bodyguard\":50, \"Thriller\":65}\n",
    "\n",
    "print(\"Respuesta: \" + str(album_sales_dict))\n",
    "\n",
    "# Explicación: Para crear un diccionario, se usa {llave1:valor1, llave2:valor2, ...}."
   ],
   "metadata": {
    "collapsed": false,
    "ExecuteTime": {
     "end_time": "2024-01-27T21:54:04.122696Z",
     "start_time": "2024-01-27T21:54:04.099822Z"
    }
   },
   "id": "e69bb30aaa96f33f",
   "execution_count": 37
  },
  {
   "cell_type": "markdown",
   "source": [
    "b) Usa el diccionario para encontrar las ventas totales de Thriller:"
   ],
   "metadata": {
    "collapsed": false
   },
   "id": "882a0113974c5ca1"
  },
  {
   "cell_type": "code",
   "outputs": [
    {
     "name": "stdout",
     "output_type": "stream",
     "text": [
      "Respuesta: 65\n"
     ]
    }
   ],
   "source": [
    "print(\"Respuesta: \" + str(album_sales_dict[\"Thriller\"]))\n",
    "\n",
    "# Explicación: Para obtener el valor de una llave, se usa diccionario[llave]."
   ],
   "metadata": {
    "collapsed": false,
    "ExecuteTime": {
     "end_time": "2024-01-27T21:54:30.000857Z",
     "start_time": "2024-01-27T21:54:29.976634Z"
    }
   },
   "id": "bf61f1c211d9c7b9",
   "execution_count": 38
  },
  {
   "cell_type": "markdown",
   "source": [
    "c) Encuentra los nombres de los discos dentro del diccionario mediante el método <code>keys</code>:"
   ],
   "metadata": {
    "collapsed": false
   },
   "id": "8972ba20f7670b6"
  },
  {
   "cell_type": "code",
   "outputs": [
    {
     "name": "stdout",
     "output_type": "stream",
     "text": [
      "Respuesta: dict_keys(['Back in Black', 'The Bodyguard', 'Thriller'])\n"
     ]
    }
   ],
   "source": [
    "print(\"Respuesta: \" + str(album_sales_dict.keys()))\n",
    "\n",
    "# Explicación: Para obtener las llaves de un diccionario, se usa el método keys()."
   ],
   "metadata": {
    "collapsed": false,
    "ExecuteTime": {
     "end_time": "2024-01-27T21:55:00.482793Z",
     "start_time": "2024-01-27T21:55:00.460740Z"
    }
   },
   "id": "1b44c89bee3f94ad",
   "execution_count": 40
  },
  {
   "cell_type": "markdown",
   "source": [
    "d) Encuentra los records de ventas dentro del diccionario mediante el método <code>values</code>:"
   ],
   "metadata": {
    "collapsed": false
   },
   "id": "f5d2b1fc793e5c2f"
  },
  {
   "cell_type": "code",
   "outputs": [
    {
     "name": "stdout",
     "output_type": "stream",
     "text": [
      "Respuesta: dict_values([50, 50, 65])\n"
     ]
    }
   ],
   "source": [
    "print(\"Respuesta: \" + str(album_sales_dict.values()))\n",
    "\n",
    "# Explicación: Para obtener los valores de un diccionario, se usa el método values()."
   ],
   "metadata": {
    "collapsed": false,
    "ExecuteTime": {
     "end_time": "2024-01-27T21:55:18.895246Z",
     "start_time": "2024-01-27T21:55:18.871076Z"
    }
   },
   "id": "a7a47af246c4d0da",
   "execution_count": 42
  },
  {
   "cell_type": "markdown",
   "source": [],
   "metadata": {
    "collapsed": false
   },
   "id": "f31e3e0216c29350"
  },
  {
   "cell_type": "markdown",
   "source": [
    "<h2>Cuestionarios sobre Condicionales</h2>"
   ],
   "metadata": {
    "collapsed": false
   },
   "id": "52388f42856eafd9"
  },
  {
   "cell_type": "markdown",
   "source": [
    "1. Escribe una declaración if que determine si un disco musical tiene una calificación mayor a 8. Compruébalo utilizando el calificación del disco <b>“Back in Black”</b> el cual tiene un valor de 8.5. Si la condición es verdadera, imprime “\"This album is Amazing!\"”"
   ],
   "metadata": {
    "collapsed": false
   },
   "id": "2483f68a0343fc23"
  },
  {
   "cell_type": "code",
   "outputs": [
    {
     "name": "stdout",
     "output_type": "stream",
     "text": [
      "Respuesta: This album is Amazing!\n"
     ]
    }
   ],
   "source": [
    "calificaciónBackInBlack = 8.5\n",
    "\n",
    "if calificaciónBackInBlack > 8:\n",
    "    print(\"Respuesta: This album is Amazing!\")\n",
    "    \n",
    "# Explicación: Para hacer una condición, se usa if condicion:."
   ],
   "metadata": {
    "collapsed": false,
    "ExecuteTime": {
     "end_time": "2024-01-28T18:41:50.286155Z",
     "start_time": "2024-01-28T18:41:50.248603Z"
    }
   },
   "id": "e9ecbda98e4f6313",
   "execution_count": 11
  },
  {
   "cell_type": "markdown",
   "source": [],
   "metadata": {
    "collapsed": false
   },
   "id": "f41a6b386e777b8c"
  },
  {
   "cell_type": "markdown",
   "source": [
    "2. Escribe una declaración if-else que determine lo siguiente. Si la calificación es mayor que 8 imprime “this album is amazing”. Si es menor o igual a 8 que imprima “this album is ok”."
   ],
   "metadata": {
    "collapsed": false
   },
   "id": "c2f28e49cbd43b1b"
  },
  {
   "cell_type": "code",
   "outputs": [
    {
     "name": "stdout",
     "output_type": "stream",
     "text": [
      "Respuesta: This album is ok!\n"
     ]
    }
   ],
   "source": [
    "if calificaciónBackInBlack > 8.5:\n",
    "    print(\"Respuesta: This album is amazing!\")\n",
    "else:\n",
    "    print(\"Respuesta: This album is ok!\")"
   ],
   "metadata": {
    "collapsed": false,
    "ExecuteTime": {
     "end_time": "2024-01-28T18:41:54.282177Z",
     "start_time": "2024-01-28T18:41:54.272597Z"
    }
   },
   "id": "a3df36bebfb6c3b8",
   "execution_count": 12
  },
  {
   "cell_type": "markdown",
   "source": [],
   "metadata": {
    "collapsed": false
   },
   "id": "fe385abf5e890696"
  },
  {
   "cell_type": "markdown",
   "source": [
    "3. Escribe una declaración if que determine si un disco fue lanzado antes de 1980 o en los años 1991 o 1993. Si la condición es verdadera imprime el año de lanzamiento."
   ],
   "metadata": {
    "collapsed": false
   },
   "id": "7a4298c3f6733ac8"
  },
  {
   "cell_type": "code",
   "outputs": [
    {
     "name": "stdout",
     "output_type": "stream",
     "text": [
      "Respuesta: 1993\n"
     ]
    }
   ],
   "source": [
    "añoDeLanzamientoDeUnDisco = 1993\n",
    "\n",
    "if añoDeLanzamientoDeUnDisco < 1980 or añoDeLanzamientoDeUnDisco == 1991 or añoDeLanzamientoDeUnDisco == 1993:\n",
    "    print(\"Respuesta: \" + str(añoDeLanzamientoDeUnDisco))\n",
    "    \n",
    "# Explicación: Para hacer una condición, se usa if condicion y para hacer una condición con or, se usa if condicion1 or condicion2 or condicion3."
   ],
   "metadata": {
    "collapsed": false,
    "ExecuteTime": {
     "end_time": "2024-01-28T18:41:57.773082Z",
     "start_time": "2024-01-28T18:41:57.761908Z"
    }
   },
   "id": "bf638e0893682911",
   "execution_count": 13
  },
  {
   "cell_type": "markdown",
   "source": [],
   "metadata": {
    "collapsed": false
   },
   "id": "3fb327f134994cde"
  },
  {
   "cell_type": "markdown",
   "source": [
    "<h2>Cuestionarios sobre Bucles</h2>"
   ],
   "metadata": {
    "collapsed": false
   },
   "id": "283aabf38f93ff0e"
  },
  {
   "cell_type": "markdown",
   "source": [
    "1. Escribe un bucle for que imprima todos los elementos entre -5 y 5 usando la función range."
   ],
   "metadata": {
    "collapsed": false
   },
   "id": "417b5778fda49fd9"
  },
  {
   "cell_type": "code",
   "outputs": [
    {
     "name": "stdout",
     "output_type": "stream",
     "text": [
      "Respuesta: -5\n",
      "Respuesta: -4\n",
      "Respuesta: -3\n",
      "Respuesta: -2\n",
      "Respuesta: -1\n",
      "Respuesta: 0\n",
      "Respuesta: 1\n",
      "Respuesta: 2\n",
      "Respuesta: 3\n",
      "Respuesta: 4\n",
      "Respuesta: 5\n"
     ]
    }
   ],
   "source": [
    "for contador in range(-5, 6):\n",
    "    print(\"Respuesta: \" + str(contador))\n",
    "    \n",
    "# Explicación: Para hacer un bucle for, se usa for variable in range(inicio, fin), donde inicio es inclusivo y fin es exclusivo."
   ],
   "metadata": {
    "collapsed": false,
    "ExecuteTime": {
     "end_time": "2024-01-28T18:42:02.186771Z",
     "start_time": "2024-01-28T18:42:02.157613Z"
    }
   },
   "id": "da3c25a00f56d08c",
   "execution_count": 14
  },
  {
   "cell_type": "markdown",
   "source": [],
   "metadata": {
    "collapsed": false
   },
   "id": "5851262b1e892a9f"
  },
  {
   "cell_type": "markdown",
   "source": [
    "2. Imprime los elementos de la siguiente lista:\n",
    "<code>Genres=[ 'rock', 'R&B', 'Soundtrack', 'R&B', 'soul', 'pop']</code>\n",
    "Y asegúrate de seguir las convenciones del lenguaje Python"
   ],
   "metadata": {
    "collapsed": false
   },
   "id": "5a8c19a948350063"
  },
  {
   "cell_type": "code",
   "outputs": [
    {
     "name": "stdout",
     "output_type": "stream",
     "text": [
      "Respuesta: rock\n",
      "Respuesta: R&B\n",
      "Respuesta: Soundtrack\n",
      "Respuesta: R&B\n",
      "Respuesta: soul\n",
      "Respuesta: pop\n"
     ]
    }
   ],
   "source": [
    "Genres=['rock', 'R&B', 'Soundtrack', 'R&B', 'soul', 'pop']\n",
    "\n",
    "for generoAImprimir in Genres:\n",
    "    print(\"Respuesta: \" + generoAImprimir)\n",
    "    \n",
    "# Explicación: Para poder imprimir los elementos de una lista, se debe recorrer la lista con un bucle for."
   ],
   "metadata": {
    "collapsed": false,
    "ExecuteTime": {
     "end_time": "2024-01-28T18:42:06.772268Z",
     "start_time": "2024-01-28T18:42:06.762263Z"
    }
   },
   "id": "9716d663a7e309f9",
   "execution_count": 15
  },
  {
   "cell_type": "markdown",
   "source": [],
   "metadata": {
    "collapsed": false
   },
   "id": "dd3004b8dab76d72"
  },
  {
   "cell_type": "markdown",
   "source": [
    "3. Escribe un bucle for que imprima la siguiente lista: squares=[‘red’, ‘yellow’, ‘green’, ‘purple’, ‘blue’]"
   ],
   "metadata": {
    "collapsed": false
   },
   "id": "2d58c4ae36028507"
  },
  {
   "cell_type": "code",
   "outputs": [
    {
     "name": "stdout",
     "output_type": "stream",
     "text": [
      "Respuesta: red\n",
      "Respuesta: yellow\n",
      "Respuesta: green\n",
      "Respuesta: purple\n",
      "Respuesta: blue\n"
     ]
    }
   ],
   "source": [
    "squares=['red', 'yellow', 'green', 'purple', 'blue']\n",
    "\n",
    "for colores in squares:\n",
    "    print(\"Respuesta: \" + colores)\n",
    "    \n",
    "# Explicación: Para poder imprimir los elementos de una lista, se debe recorrer la lista con un bucle for."
   ],
   "metadata": {
    "collapsed": false,
    "ExecuteTime": {
     "end_time": "2024-01-28T18:42:10.038776Z",
     "start_time": "2024-01-28T18:42:10.028868Z"
    }
   },
   "id": "4e09fca711226cd2",
   "execution_count": 16
  },
  {
   "cell_type": "markdown",
   "source": [],
   "metadata": {
    "collapsed": false
   },
   "id": "6281944149b0652f"
  },
  {
   "cell_type": "markdown",
   "source": [
    "4. Escribe un bucle while que muestre los valores de la calificación de las canciones de un disco almacenados en la lista PlayListRatings. Si la calificación es menor a 6, sal del bucle. La lista PlayListRatings esta compuesta por: PlayListRatings = [10, 9.5, 10, 8, 7.5, 5, 10, 10]"
   ],
   "metadata": {
    "collapsed": false
   },
   "id": "57cc49ae9690e12d"
  },
  {
   "cell_type": "code",
   "outputs": [
    {
     "name": "stdout",
     "output_type": "stream",
     "text": [
      "Respuesta: 10\n",
      "Respuesta: 9.5\n",
      "Respuesta: 10\n",
      "Respuesta: 8\n",
      "Respuesta: 7.5\n"
     ]
    }
   ],
   "source": [
    "PlayListRatings = [10, 9.5, 10, 8, 7.5, 5, 10, 10]\n",
    "\n",
    "contador = 0\n",
    "\n",
    "while contador < len(PlayListRatings):\n",
    "    if PlayListRatings[contador] < 6:\n",
    "        break\n",
    "    print(\"Respuesta: \" + str(PlayListRatings[contador]))\n",
    "    contador += 1\n",
    "    \n",
    "# Explicación: Para hacer un bucle while, se usa while condicion: y para salir del bucle, se usa break."
   ],
   "metadata": {
    "collapsed": false,
    "ExecuteTime": {
     "end_time": "2024-01-28T18:42:13.242537Z",
     "start_time": "2024-01-28T18:42:13.231332Z"
    }
   },
   "id": "b4e58256ed536453",
   "execution_count": 17
  },
  {
   "cell_type": "markdown",
   "source": [],
   "metadata": {
    "collapsed": false
   },
   "id": "a5b05cda5a60bf5a"
  },
  {
   "cell_type": "markdown",
   "source": [
    "5. Escribe un bucle while que copie las cadenas <code>'orange'</code> de la lista <code>squares</code> a la lista <code>new_squares</code>. Detente y sal del ciclo si el valor en la lista no es <code>'orange'</code>:"
   ],
   "metadata": {
    "collapsed": false
   },
   "id": "7b4fc5d1cc0123a4"
  },
  {
   "cell_type": "code",
   "outputs": [
    {
     "name": "stdout",
     "output_type": "stream",
     "text": [
      "Respuesta: ['orange', 'orange']\n"
     ]
    }
   ],
   "source": [
    "squares = ['orange', 'orange', 'purple', 'blue ', 'orange']\n",
    "new_squares = []\n",
    "\n",
    "contador = 0\n",
    "\n",
    "while contador < len(squares):\n",
    "    if squares[contador] != \"orange\":\n",
    "        break\n",
    "    new_squares.append(squares[contador])\n",
    "    contador += 1\n",
    "    \n",
    "print(\"Respuesta: \" + str(new_squares))\n",
    "\n",
    "# Explicación: Cuando se quiere copiar elementos de una lista a otra, se debe recorrer la lista con un bucle while."
   ],
   "metadata": {
    "collapsed": false,
    "ExecuteTime": {
     "end_time": "2024-01-28T18:42:16.997072Z",
     "start_time": "2024-01-28T18:42:16.987997Z"
    }
   },
   "id": "e7d017e91fdda0ce",
   "execution_count": 18
  },
  {
   "cell_type": "markdown",
   "source": [],
   "metadata": {
    "collapsed": false
   },
   "id": "19325939be768be4"
  },
  {
   "cell_type": "markdown",
   "source": [
    "<h2>Cuestionarios sobre Funciones</h2>"
   ],
   "metadata": {
    "collapsed": false
   },
   "id": "36adc50609896756"
  },
  {
   "cell_type": "markdown",
   "source": [
    "1. Cree una función que divida la primera entrada por la segunda entrada:"
   ],
   "metadata": {
    "collapsed": false
   },
   "id": "9d7c94ff3fab6ef6"
  },
  {
   "cell_type": "code",
   "outputs": [
    {
     "name": "stdout",
     "output_type": "stream",
     "text": [
      "Respuesta: 2.0\n"
     ]
    }
   ],
   "source": [
    "A = 4\n",
    "B = 2\n",
    "\n",
    "def funcionQueDivide(A, B):\n",
    "    return A/B\n",
    "\n",
    "print(\"Respuesta: \" + str(funcionQueDivide(A, B)))\n",
    "\n",
    "# Explicación: Para crear una función, se usa def nombreDeLaFuncion(argumento1, argumento2, ...): y para retornar un valor, se usa return valor."
   ],
   "metadata": {
    "collapsed": false,
    "ExecuteTime": {
     "end_time": "2024-01-28T18:42:22.171895Z",
     "start_time": "2024-01-28T18:42:22.130855Z"
    }
   },
   "id": "5567dd9c9122d55b",
   "execution_count": 19
  },
  {
   "cell_type": "markdown",
   "source": [],
   "metadata": {
    "collapsed": false
   },
   "id": "bfa1099204a7343a"
  },
  {
   "cell_type": "markdown",
   "source": [
    "2. Utilice la función con para la siguiente pregunta."
   ],
   "metadata": {
    "collapsed": false
   },
   "id": "720a1769a12812fd"
  },
  {
   "cell_type": "code",
   "outputs": [],
   "source": [
    "def con(a, b):\n",
    "    return(a + b)"
   ],
   "metadata": {
    "collapsed": false,
    "ExecuteTime": {
     "end_time": "2024-01-28T18:42:54.882147Z",
     "start_time": "2024-01-28T18:42:54.875804Z"
    }
   },
   "id": "a1102ad9a586969e",
   "execution_count": 21
  },
  {
   "cell_type": "markdown",
   "source": [
    "a) ¿Se puede usar la función <code> con </code> que definimos antes para agregar números enteros o cadenas?"
   ],
   "metadata": {
    "collapsed": false
   },
   "id": "78ce8a53a8743e73"
  },
  {
   "cell_type": "code",
   "outputs": [
    {
     "name": "stdout",
     "output_type": "stream",
     "text": [
      "Respuesta: 3\n"
     ]
    }
   ],
   "source": [
    "# Si, se puede usar la función con para agregar números enteros o cadenas.\n",
    "\n",
    "print(\"Respuesta: \" + str(con(1, 2)))"
   ],
   "metadata": {
    "collapsed": false,
    "ExecuteTime": {
     "end_time": "2024-01-28T18:43:29.964426Z",
     "start_time": "2024-01-28T18:43:29.929645Z"
    }
   },
   "id": "59860262717f3999",
   "execution_count": 22
  },
  {
   "cell_type": "markdown",
   "source": [
    "b) ¿Se puede usar la función con que definimos antes para concentrar una lista o tupla?"
   ],
   "metadata": {
    "collapsed": false
   },
   "id": "93a2e303d7d71a71"
  },
  {
   "cell_type": "code",
   "outputs": [
    {
     "name": "stdout",
     "output_type": "stream",
     "text": [
      "Respuesta: [1, 2, 3, 4]\n"
     ]
    }
   ],
   "source": [
    "# Si, se puede usar la función con para concentrar una lista o tupla.\n",
    "\n",
    "print(\"Respuesta: \" + str(con([1, 2], [3, 4])))"
   ],
   "metadata": {
    "collapsed": false,
    "ExecuteTime": {
     "end_time": "2024-01-28T18:44:11.396434Z",
     "start_time": "2024-01-28T18:44:11.363848Z"
    }
   },
   "id": "5fe35f1e7390f041",
   "execution_count": 23
  },
  {
   "cell_type": "markdown",
   "source": [],
   "metadata": {
    "collapsed": false
   },
   "id": "70bdc62a4a1578e9"
  },
  {
   "cell_type": "markdown",
   "source": [
    "<h2>Actividad de Clases</h2>"
   ],
   "metadata": {
    "collapsed": false
   },
   "id": "d6693f5348aad3f"
  },
  {
   "cell_type": "markdown",
   "source": [
    "La clase matplotlib.patches.Ellipse, permite dibujar elipses desde [matplotlib](https://matplotlib.org/stable/api/_as_gen/matplotlib.patches.Ellipse.html). La clase se importa de la siguiente manera:\n",
    "\n",
    "*from matplotlib.patchs import Ellipse*\n",
    "\n",
    "Se puede dibujar entonces cualquier elipse, dando los argumentos:\n",
    "\n",
    "plt.gca().add_patch(Ellipse(xy, width, height, facecolor = color, edgecolor = edgecolor))\n",
    "\n",
    "Se requiere crear una clase Elipse, la cual el constructor sea con valores iniciales cualesquiera. Adicionalmente, la clase debe tener los siguientes métodos:\n",
    "\n",
    "1.- Cambiar el ancho\n",
    "\n",
    "2.- Cambiar el alto\n",
    "\n",
    "3.- Cambiar el color de relleno\n",
    "\n",
    "4.- Cambiar el color de borde\n",
    "\n",
    "5.- Dibujar"
   ],
   "metadata": {
    "collapsed": false
   },
   "id": "a1ac155dd310cf8"
  },
  {
   "cell_type": "code",
   "outputs": [
    {
     "data": {
      "text/plain": "<Figure size 640x480 with 1 Axes>",
      "image/png": "[encoded data removed]"
     },
     "metadata": {},
     "output_type": "display_data"
    }
   ],
   "source": [
    "from matplotlib.patches import Ellipse\n",
    "from matplotlib import pyplot as plt\n",
    "\n",
    "\n",
    "class Elipse:\n",
    "    def __init__(self, xy, width, height, facecolor, edgecolor):\n",
    "        self.xy = xy\n",
    "        self.width = width\n",
    "        self.height = height\n",
    "        self.facecolor = facecolor\n",
    "        self.edgecolor = edgecolor\n",
    "        \n",
    "    # 1. Cambiar el ancho\n",
    "    def cambiarAncho(self, nuevoAncho):\n",
    "        self.width = nuevoAncho\n",
    "        \n",
    "    # 2. Cambiar el alto\n",
    "    def cambiarAlto(self, nuevoAlto):\n",
    "        self.height = nuevoAlto\n",
    "        \n",
    "    # 3. Cambiar el color de relleno\n",
    "    def cambiarColorDeRelleno(self, nuevoColorDeRelleno):\n",
    "        self.facecolor = nuevoColorDeRelleno\n",
    "    \n",
    "    # 4. Cambiar el color de borde\n",
    "    def cambiarColorDeBorde(self, nuevoColorDeBorde):\n",
    "        self.edgecolor = nuevoColorDeBorde\n",
    "    \n",
    "    # 5. Dibujar\n",
    "    def dibujar(self):\n",
    "        plt.gca().add_patch(Ellipse(self.xy, self.width, self.height, facecolor = self.facecolor, edgecolor = self.edgecolor))\n",
    "        plt.axis('scaled')\n",
    "\n",
    "elipse = Elipse((0.5, 0.5), 0.9, 0.5, \"red\", \"black\")\n",
    "elipse.dibujar()\n",
    "\n",
    "# Explicación: Para crear una clase, se usa class nombreDeLaClase: y para crear un método, se usa def nombreDelMetodo(self, argumento1, argumento2, ...):. Para acceder a un atributo de la clase, se usa self.atributo. Para acceder a un método de la clase, se usa self.metodo(argumento1, argumento2, ...)."
   ],
   "metadata": {
    "collapsed": false,
    "ExecuteTime": {
     "end_time": "2024-01-28T21:50:01.984436Z",
     "start_time": "2024-01-28T21:50:01.909608Z"
    }
   },
   "id": "a10331f671d70b0a",
   "execution_count": 83
  },
  {
   "cell_type": "markdown",
   "source": [],
   "metadata": {
    "collapsed": false
   },
   "id": "624a6e3986644477"
  },
  {
   "cell_type": "markdown",
   "source": [
    "<h2>Bonos</h2>"
   ],
   "metadata": {
    "collapsed": false
   },
   "id": "152d09981d661a46"
  },
  {
   "cell_type": "markdown",
   "source": [
    "<h3>Calentamiento</h3>"
   ],
   "metadata": {
    "collapsed": false
   },
   "id": "fd99f0f133c296bf"
  },
  {
   "cell_type": "markdown",
   "source": [
    "MENOR DE DOS PARES: Escriba una función que devuelva el menor de dos números dados si ambos números son pares, pero devuelva el mayor si uno o ambos números son impares"
   ],
   "metadata": {
    "collapsed": false
   },
   "id": "a2c8687abdbce833"
  },
  {
   "cell_type": "code",
   "outputs": [
    {
     "name": "stdout",
     "output_type": "stream",
     "text": [
      "Caso 1:\n",
      "Respuesta: 2\n",
      "\n",
      "Caso 2:\n",
      "Respuesta: 5\n",
      "\n",
      "Caso 3 (Bono propio):\n",
      "Respuesta: 4\n"
     ]
    }
   ],
   "source": [
    "def lesser_of_two_evens(a, b):\n",
    "    if a % 2 == 0 and b % 2 == 0:\n",
    "        return min(a, b)\n",
    "    else:\n",
    "        return max(a, b)\n",
    "\n",
    "# Pruebas\n",
    "print(\"Caso 1:\")\n",
    "result1 = lesser_of_two_evens(2, 4)\n",
    "print(\"Respuesta:\", result1)\n",
    "\n",
    "print(\"\\nCaso 2:\")\n",
    "result2 = lesser_of_two_evens(2, 5)\n",
    "print(\"Respuesta:\", result2)\n",
    "\n",
    "print(\"\\nCaso 3 (Bono propio):\")\n",
    "result3 = lesser_of_two_evens(6, 4)\n",
    "print(\"Respuesta:\", result3)\n",
    "\n",
    "# Explicación: Para saber si un número es par, se usa numero % 2 == 0. Para saber si un número es impar, se usa numero % 2 != 0. Para obtener el menor de dos números, se usa min(numero1, numero2). Para obtener el mayor de dos números, se usa max(numero1, numero2)."
   ],
   "metadata": {
    "collapsed": false,
    "ExecuteTime": {
     "end_time": "2024-01-28T21:50:14.981360Z",
     "start_time": "2024-01-28T21:50:14.949075Z"
    }
   },
   "id": "c8934d073c28a7cc",
   "execution_count": 84
  },
  {
   "cell_type": "markdown",
   "source": [],
   "metadata": {
    "collapsed": false
   },
   "id": "97fc6621b5874b43"
  },
  {
   "cell_type": "markdown",
   "source": [
    "#### GALLETAS DE ANIMALES: Escribir una función que toma una cadena de dos palabras y devuelve True si ambas palabras comienzan con la misma letra\n",
    "    animal_crackers('Ciudad Calor') --> True\n",
    "    animal_crackers('Lugar Frio') --> False"
   ],
   "metadata": {
    "collapsed": false
   },
   "id": "c5fb2e7ba795a651"
  },
  {
   "cell_type": "code",
   "outputs": [
    {
     "name": "stdout",
     "output_type": "stream",
     "text": [
      "Caso 1:\n",
      "Respuesta: True\n",
      "\n",
      "Caso 2:\n",
      "Respuesta: False\n",
      "\n",
      "Caso 3 (Bono propio):\n",
      "Respuesta: True\n"
     ]
    }
   ],
   "source": [
    "def animal_crackers(text):\n",
    "    palabras = text.split()\n",
    "    return palabras[0][0] == palabras[1][0]\n",
    "\n",
    "# Revisión:\n",
    "print(\"Caso 1:\")\n",
    "result1 = animal_crackers('Ciudad Calor')\n",
    "print(\"Respuesta:\", result1)\n",
    "\n",
    "print(\"\\nCaso 2:\")\n",
    "result2 = animal_crackers('Lugar Frio')\n",
    "print(\"Respuesta:\", result2)\n",
    "\n",
    "print(\"\\nCaso 3 (Bono propio):\")\n",
    "result3 = animal_crackers('Lugar Lugar')\n",
    "print(\"Respuesta:\", result3)\n",
    "\n",
    "# Explicación: Para obtener la primera letra de una palabra, se usa palabra[0]. Para obtener la primera palabra de una cadena de texto, se usa cadena.split()[0]. Para obtener la segunda palabra de una cadena de texto, se usa cadena.split()[1]. Para saber si dos letras son iguales, se usa ==."
   ],
   "metadata": {
    "collapsed": false,
    "ExecuteTime": {
     "end_time": "2024-01-28T21:50:18.995212Z",
     "start_time": "2024-01-28T21:50:18.939025Z"
    }
   },
   "id": "14201c14a0ee0d9a",
   "execution_count": 85
  },
  {
   "cell_type": "markdown",
   "source": [
    "#### HACE VEINTE: dados dos enteros, devuelve True si la suma de los enteros es 20 o si uno de los enteros es 20. De lo contrario, devuelve False\n",
    "\n",
    "    makes_twenty(20,10) --> True\n",
    "    makes_twenty(12,8) --> True\n",
    "    makes_twenty(2,3) --> False"
   ],
   "metadata": {
    "collapsed": false
   },
   "id": "80684c24ccfbdbbb"
  },
  {
   "cell_type": "code",
   "outputs": [
    {
     "name": "stdout",
     "output_type": "stream",
     "text": [
      "Caso 1:\n",
      "Respuesta: True\n",
      "\n",
      "Caso 2:\n",
      "Respuesta: False\n",
      "\n",
      "Caso 3:\n",
      "Respuesta: True\n",
      "\n",
      "Caso 4 (Bono propio):\n",
      "Respuesta: True\n"
     ]
    }
   ],
   "source": [
    "def makes_twenty(n1, n2):\n",
    "    return n1 == 20 or n2 == 20 or n1 + n2 == 20\n",
    "\n",
    "# Revisión:\n",
    "print(\"Caso 1:\")\n",
    "result1 = makes_twenty(20,10)\n",
    "print(\"Respuesta:\", result1)\n",
    "\n",
    "print(\"\\nCaso 2:\")\n",
    "result2 = makes_twenty(2,3)\n",
    "print(\"Respuesta:\", result2)\n",
    "\n",
    "print(\"\\nCaso 3:\")\n",
    "result3 = makes_twenty(12,8)\n",
    "print(\"Respuesta:\", result3)\n",
    "\n",
    "print(\"\\nCaso 4 (Bono propio):\")\n",
    "result4 = makes_twenty(20,20)\n",
    "print(\"Respuesta:\", result4)\n",
    "\n",
    "# Explicación: Para saber si un número es igual a otro, se usa ==. Para saber si un número es igual a 20, se usa == 20. Para saber si un número es igual a 20 o a otro número, se usa == 20 or == otroNumero. Para saber si la suma de dos números es igual a 20, se usa == 20."
   ],
   "metadata": {
    "collapsed": false,
    "ExecuteTime": {
     "end_time": "2024-01-28T21:50:19.813254Z",
     "start_time": "2024-01-28T21:50:19.801564Z"
    }
   },
   "id": "24d53066ec50b834",
   "execution_count": 86
  },
  {
   "cell_type": "markdown",
   "source": [],
   "metadata": {
    "collapsed": false
   },
   "id": "880a82d6a3dd94fd"
  },
  {
   "cell_type": "markdown",
   "source": [
    "<h3>Nivel 1</h3>"
   ],
   "metadata": {
    "collapsed": false
   },
   "id": "eec6cbb792b4baa"
  },
  {
   "cell_type": "markdown",
   "source": [
    "#### MAYÚSCULAS: Escribir una función que haga mayúscula la primera y cuarta letra de una cadena de texto\n",
    "     \n",
    "    old_macdonald('macdonald') --> MacDonald\n",
    "    \n",
    "Note: `'macdonald'.capitalize()` returns `'Macdonald'`"
   ],
   "metadata": {
    "collapsed": false
   },
   "id": "26d4cee9be34a22"
  },
  {
   "cell_type": "code",
   "outputs": [
    {
     "name": "stdout",
     "output_type": "stream",
     "text": [
      "Caso 1:\n",
      "Respuesta: MacDonald\n"
     ]
    }
   ],
   "source": [
    "def old_macdonald(name):\n",
    "    return name[:3].capitalize() + name[3:].capitalize()\n",
    "\n",
    "# Revisión:\n",
    "print(\"Caso 1:\")\n",
    "result1 = old_macdonald('macdonald')\n",
    "print(\"Respuesta:\", result1)\n",
    "\n",
    "# Explicación: Para obtener la primera letra de una cadena de texto, se usa cadena[0] y para obtener la cuarta letra de una cadena de texto, se usa cadena[3]."
   ],
   "metadata": {
    "collapsed": false,
    "ExecuteTime": {
     "end_time": "2024-01-28T21:50:23.259294Z",
     "start_time": "2024-01-28T21:50:23.221515Z"
    }
   },
   "id": "5c538a664ac12bff",
   "execution_count": 87
  },
  {
   "cell_type": "markdown",
   "source": [],
   "metadata": {
    "collapsed": false
   },
   "id": "4b2ed8bd814030ec"
  },
  {
   "cell_type": "markdown",
   "source": [
    "#### REVERSA: Dada una oración, retornar la misma oración pero en reversa\n",
    "\n",
    "    master_yoda('I am home') --> 'home am I'\n",
    "    master_yoda('We are ready') --> 'ready are We'\n",
    "    \n",
    "Note: Revisar método .join()\n",
    "\n",
    "    >>> \"--\".join(['a','b','c'])\n",
    "    >>> 'a--b--c'\n",
    "\n",
    "Resultado de .join():\n",
    "\n",
    "    >>> \" \".join(['Hello','world'])\n",
    "    >>> \"Hello world\""
   ],
   "metadata": {
    "collapsed": false
   },
   "id": "68c53884df465eb3"
  },
  {
   "cell_type": "code",
   "outputs": [
    {
     "name": "stdout",
     "output_type": "stream",
     "text": [
      "Caso 1:\n",
      "Respuesta: home am I\n",
      "\n",
      "Caso 2:\n",
      "Respuesta: ready are We\n"
     ]
    }
   ],
   "source": [
    "def master_yoda(text):\n",
    "    return \" \".join(text.split()[::-1])\n",
    "\n",
    "# Revisión:\n",
    "print(\"Caso 1:\")\n",
    "result1 = master_yoda('I am home')\n",
    "print(\"Respuesta:\", result1)\n",
    "\n",
    "print(\"\\nCaso 2:\")\n",
    "result2 = master_yoda('We are ready')\n",
    "print(\"Respuesta:\", result2)\n",
    "\n",
    "# Explicación: Para obtener una lista de palabras de una cadena de texto, se usa cadena.split(). Para obtener una lista de palabras de una cadena de texto en reversa, se usa cadena.split()[::-1]. Para unir una lista de palabras en una cadena de texto, se usa \" \".join(listaDePalabras)."
   ],
   "metadata": {
    "collapsed": false,
    "ExecuteTime": {
     "end_time": "2024-01-28T21:52:05.036843Z",
     "start_time": "2024-01-28T21:52:05.001746Z"
    }
   },
   "id": "303d2d2cfd18c4e5",
   "execution_count": 88
  },
  {
   "cell_type": "markdown",
   "source": [],
   "metadata": {
    "collapsed": false
   },
   "id": "17865e5c2c68a940"
  },
  {
   "cell_type": "markdown",
   "source": [
    "<h3>Nivel 2</h3>"
   ],
   "metadata": {
    "collapsed": false
   },
   "id": "bf1ccb664a9844"
  },
  {
   "cell_type": "markdown",
   "source": [
    "#### PROBLEMA 33: \n",
    "\n",
    "Dada una lista de enteros, retornar True si el arreglo tinene un  3  seguido por un  3 .\n",
    "\n",
    "    has_33([1, 3, 3]) → True\n",
    "    has_33([1, 3, 1, 3]) → False\n",
    "    has_33([3, 1, 3]) → False"
   ],
   "metadata": {
    "collapsed": false
   },
   "id": "98aea5687f29ed17"
  },
  {
   "cell_type": "code",
   "outputs": [
    {
     "name": "stdout",
     "output_type": "stream",
     "text": [
      "Caso 1:\n",
      "Respuesta: True\n",
      "\n",
      "Caso 2:\n",
      "Respuesta: False\n",
      "\n",
      "Caso 3:\n",
      "Respuesta: False\n"
     ]
    }
   ],
   "source": [
    "def has_33(nums):\n",
    "    for i in range(0, len(nums) - 1):\n",
    "        if nums[i] == 3 and nums[i+1] == 3:\n",
    "            return True\n",
    "    return False\n",
    "\n",
    "# Revisión:\n",
    "print(\"Caso 1:\")\n",
    "result1 = has_33([1, 3, 3])\n",
    "print(\"Respuesta:\", result1)\n",
    "\n",
    "print(\"\\nCaso 2:\")\n",
    "result2 = has_33([1, 3, 1, 3])\n",
    "print(\"Respuesta:\", result2)\n",
    "\n",
    "print(\"\\nCaso 3:\")\n",
    "result3 = has_33([3, 1, 3])\n",
    "print(\"Respuesta:\", result3)\n",
    "\n",
    "# Explicación: Para recorrer una lista, se usa for i in range(0, len(lista)). Para saber si un elemento de una lista es igual a otro elemento de la lista, se usa lista[i] == lista[i+1]."
   ],
   "metadata": {
    "collapsed": false,
    "ExecuteTime": {
     "end_time": "2024-01-28T22:27:55.034990Z",
     "start_time": "2024-01-28T22:27:54.992811Z"
    }
   },
   "id": "f5350a91cab37031",
   "execution_count": 90
  },
  {
   "cell_type": "markdown",
   "source": [],
   "metadata": {
    "collapsed": false
   },
   "id": "8d1cf6e1ee344f38"
  },
  {
   "cell_type": "markdown",
   "source": [
    "#### REPLICADOR: Dada una cadena, devuelve una cadena donde por cada carácter en el original hay tres caracteres REPETIDOS\n",
    "    paper_doll('Hello') --> 'HHHeeellllllooo'\n",
    "    paper_doll('Mississippi') --> 'MMMiiissssssiiippppppiii'"
   ],
   "metadata": {
    "collapsed": false
   },
   "id": "afa6f4dbd989c245"
  },
  {
   "cell_type": "code",
   "outputs": [
    {
     "name": "stdout",
     "output_type": "stream",
     "text": [
      "Caso 1:\n",
      "Respuesta: HHHeeellllllooo\n",
      "\n",
      "Caso 2:\n",
      "Respuesta: MMMiiissssssiiissssssiiippppppiii\n"
     ]
    }
   ],
   "source": [
    "def paper_doll(text):\n",
    "    nuevaCadena = \"\"\n",
    "    for letra in text:\n",
    "        nuevaCadena += letra*3\n",
    "    return nuevaCadena\n",
    "\n",
    "# Revisión:\n",
    "print(\"Caso 1:\")\n",
    "result1 = paper_doll('Hello')\n",
    "print(\"Respuesta:\", result1)\n",
    "\n",
    "print(\"\\nCaso 2:\")\n",
    "result2 = paper_doll('Mississippi')\n",
    "print(\"Respuesta:\", result2)\n",
    "\n",
    "# Explicación: Para recorrer una cadena de texto, se usa for letra in cadenaDeTexto. Para concatenar una letra a una cadena de texto, se usa cadenaDeTexto += letra."
   ],
   "metadata": {
    "collapsed": false,
    "ExecuteTime": {
     "end_time": "2024-01-28T22:29:48.835509Z",
     "start_time": "2024-01-28T22:29:48.800411Z"
    }
   },
   "id": "d43fef6f1afb572f",
   "execution_count": 91
  },
  {
   "cell_type": "markdown",
   "source": [],
   "metadata": {
    "collapsed": false
   },
   "id": "112d70a3319f33bb"
  },
  {
   "cell_type": "markdown",
   "source": [
    "#### BLACKJACK: Dados tres enteros entre 1 y 11, si su suma es menor o igual a 21, devuelve su suma. Si su suma excede 21 *y* hay un once, reduce la suma total en 10. Finalmente, si la suma (incluso después del ajuste) excede 21, devuelve 'BUST'\n",
    "    blackjack(5,6,7) --> 18\n",
    "    blackjack(9,9,9) --> 'BUST'\n",
    "    blackjack(9,9,11) --> 19"
   ],
   "metadata": {
    "collapsed": false
   },
   "id": "802f129b733cc1f7"
  },
  {
   "cell_type": "code",
   "outputs": [
    {
     "name": "stdout",
     "output_type": "stream",
     "text": [
      "Caso 1:\n",
      "Respuesta: 18\n",
      "\n",
      "Caso 2:\n",
      "Respuesta: BUST\n",
      "\n",
      "Caso 3:\n",
      "Respuesta: 19\n"
     ]
    }
   ],
   "source": [
    "def blackjack(a,b,c):\n",
    "    suma = a + b + c\n",
    "    \n",
    "    if suma <= 21:\n",
    "        return suma\n",
    "    elif suma > 21 and (a == 11 or b == 11 or c == 11):\n",
    "        return suma - 10\n",
    "    else:\n",
    "        return \"BUST\"\n",
    "    \n",
    "# Revisión:\n",
    "print(\"Caso 1:\")\n",
    "result1 = blackjack(5,6,7)\n",
    "print(\"Respuesta:\", result1)\n",
    "\n",
    "print(\"\\nCaso 2:\")\n",
    "result2 = blackjack(9,9,9)\n",
    "print(\"Respuesta:\", result2)\n",
    "\n",
    "print(\"\\nCaso 3:\")\n",
    "result3 = blackjack(9,9,11)\n",
    "print(\"Respuesta:\", result3)\n",
    "\n",
    "# Explicación: Para saber si un número es igual a 11, se usa == 11. Para saber si un número es mayor a 21, se usa > 21."
   ],
   "metadata": {
    "collapsed": false,
    "ExecuteTime": {
     "end_time": "2024-01-28T22:31:02.920339Z",
     "start_time": "2024-01-28T22:31:02.913443Z"
    }
   },
   "id": "5ae0f712a154247b",
   "execution_count": 97
  }
 ],
 "metadata": {
  "kernelspec": {
   "display_name": "Python 3",
   "language": "python",
   "name": "python3"
  },
  "language_info": {
   "codemirror_mode": {
    "name": "ipython",
    "version": 2
   },
   "file_extension": ".py",
   "mimetype": "text/x-python",
   "name": "python",
   "nbconvert_exporter": "python",
   "pygments_lexer": "ipython2",
   "version": "2.7.6"
  }
 },
 "nbformat": 4,
 "nbformat_minor": 5
}
